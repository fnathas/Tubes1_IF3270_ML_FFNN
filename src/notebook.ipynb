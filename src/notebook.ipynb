{
 "cells": [
  {
   "cell_type": "code",
   "execution_count": null,
   "metadata": {},
   "outputs": [],
   "source": [
    "import numpy as np\n",
    "import pandas as pd\n",
    "import matplotlib.pyplot as plt\n",
    "import seaborn as sns\n",
    "from sklearn.datasets import fetch_openml\n",
    "from sklearn.model_selection import train_test_split\n",
    "from core.neural_network import NeuralNetwork\n",
    "from core.loss_functions import (\n",
    "    CategoricalCrossEntropy,\n",
    "    BinaryCrossEntropy,\n",
    "    MeanSquaredError,\n",
    ")\n",
    "from core.weight_initializers import (\n",
    "    ZeroInitializer,\n",
    "    UniformInitializer,\n",
    "    NormalInitializer,\n",
    "    XavierInitializer,\n",
    "    HeInitializer,\n",
    ")\n",
    "from core.activations import (\n",
    "    Linear,\n",
    "    Sigmoid,\n",
    "    ReLU,\n",
    "    Tanh,\n",
    "    Softmax,\n",
    "    Swish,\n",
    "    GELU,\n",
    ")\n"
   ]
  },
  {
   "cell_type": "code",
   "execution_count": null,
   "metadata": {},
   "outputs": [
    {
     "name": "stdout",
     "output_type": "stream",
     "text": [
      "Loading MNIST dataset...\n"
     ]
    }
   ],
   "source": [
    "# Load dataset\n",
    "print(\"Loading MNIST dataset...\")\n",
    "mnist = fetch_openml(\"mnist_784\", version=1)\n",
    "X, y = mnist.data, mnist.target\n",
    "\n",
    "y = y.astype(np.int8)\n",
    "X = X.to_numpy()\n",
    "y = y.to_numpy()\n",
    "\n",
    "# Split dataset\n",
    "X_train, X_test, y_train, y_test = train_test_split(\n",
    "    X, y, test_size=0.2, random_state=42\n",
    ")\n",
    "\n",
    "X_train = X_train.astype(np.float32) / 255.0\n",
    "X_test = X_test.astype(np.float32) / 255.0\n",
    "\n",
    "def to_categorical(y, num_classes=10):\n",
    "    return np.eye(num_classes)[y]\n",
    "\n",
    "y_train_cat = to_categorical(y_train)\n",
    "y_test_cat = to_categorical(y_test)\n",
    "\n",
    "X_train, X_val, y_train_cat, y_val_cat = train_test_split(\n",
    "    X_train, y_train_cat, test_size=0.2, random_state=42\n",
    ")"
   ]
  },
  {
   "cell_type": "code",
   "execution_count": null,
   "metadata": {},
   "outputs": [
    {
     "name": "stderr",
     "output_type": "stream",
     "text": [
      "Epoch 1/10: 100%|██████████| 700/700 [00:02<00:00, 330.36it/s]\n"
     ]
    },
    {
     "name": "stdout",
     "output_type": "stream",
     "text": [
      "Epoch 1/10, Train Loss: 2.0403, Val Loss: 1.3934, Val Acc: 0.6438\n"
     ]
    },
    {
     "name": "stderr",
     "output_type": "stream",
     "text": [
      "Epoch 2/10: 100%|██████████| 700/700 [00:01<00:00, 409.08it/s]\n"
     ]
    },
    {
     "name": "stdout",
     "output_type": "stream",
     "text": [
      "Epoch 2/10, Train Loss: 1.1167, Val Loss: 0.9067, Val Acc: 0.7844\n"
     ]
    },
    {
     "name": "stderr",
     "output_type": "stream",
     "text": [
      "Epoch 3/10: 100%|██████████| 700/700 [00:01<00:00, 501.54it/s]\n"
     ]
    },
    {
     "name": "stdout",
     "output_type": "stream",
     "text": [
      "Epoch 3/10, Train Loss: 0.7824, Val Loss: 0.6900, Val Acc: 0.8237\n"
     ]
    },
    {
     "name": "stderr",
     "output_type": "stream",
     "text": [
      "Epoch 4/10: 100%|██████████| 700/700 [00:01<00:00, 515.93it/s]\n"
     ]
    },
    {
     "name": "stdout",
     "output_type": "stream",
     "text": [
      "Epoch 4/10, Train Loss: 0.6248, Val Loss: 0.5803, Val Acc: 0.8435\n"
     ]
    },
    {
     "name": "stderr",
     "output_type": "stream",
     "text": [
      "Epoch 5/10: 100%|██████████| 700/700 [00:01<00:00, 513.64it/s]\n"
     ]
    },
    {
     "name": "stdout",
     "output_type": "stream",
     "text": [
      "Epoch 5/10, Train Loss: 0.5388, Val Loss: 0.5135, Val Acc: 0.8588\n"
     ]
    },
    {
     "name": "stderr",
     "output_type": "stream",
     "text": [
      "Epoch 6/10: 100%|██████████| 700/700 [00:01<00:00, 502.20it/s]\n"
     ]
    },
    {
     "name": "stdout",
     "output_type": "stream",
     "text": [
      "Epoch 6/10, Train Loss: 0.4855, Val Loss: 0.4707, Val Acc: 0.8692\n"
     ]
    },
    {
     "name": "stderr",
     "output_type": "stream",
     "text": [
      "Epoch 7/10: 100%|██████████| 700/700 [00:01<00:00, 469.40it/s]\n"
     ]
    },
    {
     "name": "stdout",
     "output_type": "stream",
     "text": [
      "Epoch 7/10, Train Loss: 0.4489, Val Loss: 0.4416, Val Acc: 0.8760\n"
     ]
    },
    {
     "name": "stderr",
     "output_type": "stream",
     "text": [
      "Epoch 8/10: 100%|██████████| 700/700 [00:01<00:00, 538.08it/s]\n"
     ]
    },
    {
     "name": "stdout",
     "output_type": "stream",
     "text": [
      "Epoch 8/10, Train Loss: 0.4224, Val Loss: 0.4188, Val Acc: 0.8821\n"
     ]
    },
    {
     "name": "stderr",
     "output_type": "stream",
     "text": [
      "Epoch 9/10: 100%|██████████| 700/700 [00:01<00:00, 508.21it/s]\n"
     ]
    },
    {
     "name": "stdout",
     "output_type": "stream",
     "text": [
      "Epoch 9/10, Train Loss: 0.4019, Val Loss: 0.4006, Val Acc: 0.8877\n"
     ]
    },
    {
     "name": "stderr",
     "output_type": "stream",
     "text": [
      "Epoch 10/10: 100%|██████████| 700/700 [00:01<00:00, 516.87it/s]\n"
     ]
    },
    {
     "name": "stdout",
     "output_type": "stream",
     "text": [
      "Epoch 10/10, Train Loss: 0.3854, Val Loss: 0.3878, Val Acc: 0.8896\n",
      "Test Accuracy: 0.8926\n"
     ]
    }
   ],
   "source": [
    "# Test base model\n",
    "model = NeuralNetwork(\n",
    "    layer_sizes=[784, 128, 64, 10],\n",
    "    activation_names=[None, \"swish\", \"gelu\", \"softmax\"],\n",
    "    loss_function=CategoricalCrossEntropy(),\n",
    "    weight_initializer=HeInitializer(),\n",
    ")\n",
    "\n",
    "history = model.train(\n",
    "    X_train=X_train,\n",
    "    y_train=y_train_cat,\n",
    "    X_val=X_val,\n",
    "    y_val=y_val_cat,\n",
    "    batch_size=64,\n",
    "    learning_rate=0.01,\n",
    "    epochs=10,\n",
    "    momentum=0.9,\n",
    "    verbose=1,\n",
    "    early_stopping_patience=3,\n",
    ")\n",
    "\n",
    "pred = model.forward(X_test)\n",
    "pred_classes = np.argmax(pred, axis=1)\n",
    "accuracy = np.mean(pred_classes == y_test)\n",
    "print(f\"Test Accuracy: {accuracy:.4f}\")"
   ]
  },
  {
   "cell_type": "markdown",
   "metadata": {},
   "source": [
    "## HyperParameter Experiment"
   ]
  },
  {
   "cell_type": "markdown",
   "metadata": {},
   "source": [
    "### Pengaruh Depth dan Width"
   ]
  },
  {
   "cell_type": "markdown",
   "metadata": {},
   "source": [
    "#### Variasi pada Depth"
   ]
  },
  {
   "cell_type": "code",
   "execution_count": null,
   "metadata": {},
   "outputs": [
    {
     "name": "stdout",
     "output_type": "stream",
     "text": [
      "Training model depth configurations 1\n"
     ]
    },
    {
     "name": "stderr",
     "output_type": "stream",
     "text": [
      "Epoch 1/10: 100%|██████████| 700/700 [00:02<00:00, 297.52it/s]\n"
     ]
    },
    {
     "name": "stdout",
     "output_type": "stream",
     "text": [
      "Epoch 1/10, Train Loss: 1.9067, Val Loss: 1.3489, Val Acc: 0.6669\n"
     ]
    },
    {
     "name": "stderr",
     "output_type": "stream",
     "text": [
      "Epoch 2/10: 100%|██████████| 700/700 [00:01<00:00, 354.25it/s]\n"
     ]
    },
    {
     "name": "stdout",
     "output_type": "stream",
     "text": [
      "Epoch 2/10, Train Loss: 1.0608, Val Loss: 0.8609, Val Acc: 0.7833\n"
     ]
    },
    {
     "name": "stderr",
     "output_type": "stream",
     "text": [
      "Epoch 3/10: 100%|██████████| 700/700 [00:01<00:00, 445.83it/s]\n"
     ]
    },
    {
     "name": "stdout",
     "output_type": "stream",
     "text": [
      "Epoch 3/10, Train Loss: 0.7323, Val Loss: 0.6558, Val Acc: 0.8227\n"
     ]
    },
    {
     "name": "stderr",
     "output_type": "stream",
     "text": [
      "Epoch 4/10: 100%|██████████| 700/700 [00:01<00:00, 444.20it/s]\n"
     ]
    },
    {
     "name": "stdout",
     "output_type": "stream",
     "text": [
      "Epoch 4/10, Train Loss: 0.5880, Val Loss: 0.5552, Val Acc: 0.8456\n"
     ]
    },
    {
     "name": "stderr",
     "output_type": "stream",
     "text": [
      "Epoch 5/10: 100%|██████████| 700/700 [00:01<00:00, 429.20it/s]\n"
     ]
    },
    {
     "name": "stdout",
     "output_type": "stream",
     "text": [
      "Epoch 5/10, Train Loss: 0.5111, Val Loss: 0.4968, Val Acc: 0.8617\n"
     ]
    },
    {
     "name": "stderr",
     "output_type": "stream",
     "text": [
      "Epoch 6/10: 100%|██████████| 700/700 [00:01<00:00, 405.12it/s]\n"
     ]
    },
    {
     "name": "stdout",
     "output_type": "stream",
     "text": [
      "Epoch 6/10, Train Loss: 0.4633, Val Loss: 0.4586, Val Acc: 0.8693\n"
     ]
    },
    {
     "name": "stderr",
     "output_type": "stream",
     "text": [
      "Epoch 7/10: 100%|██████████| 700/700 [00:01<00:00, 445.59it/s]\n"
     ]
    },
    {
     "name": "stdout",
     "output_type": "stream",
     "text": [
      "Epoch 7/10, Train Loss: 0.4303, Val Loss: 0.4303, Val Acc: 0.8746\n"
     ]
    },
    {
     "name": "stderr",
     "output_type": "stream",
     "text": [
      "Epoch 8/10: 100%|██████████| 700/700 [00:01<00:00, 450.55it/s]\n"
     ]
    },
    {
     "name": "stdout",
     "output_type": "stream",
     "text": [
      "Epoch 8/10, Train Loss: 0.4059, Val Loss: 0.4103, Val Acc: 0.8808\n"
     ]
    },
    {
     "name": "stderr",
     "output_type": "stream",
     "text": [
      "Epoch 9/10: 100%|██████████| 700/700 [00:01<00:00, 458.58it/s]\n"
     ]
    },
    {
     "name": "stdout",
     "output_type": "stream",
     "text": [
      "Epoch 9/10, Train Loss: 0.3872, Val Loss: 0.3950, Val Acc: 0.8841\n"
     ]
    },
    {
     "name": "stderr",
     "output_type": "stream",
     "text": [
      "Epoch 10/10: 100%|██████████| 700/700 [00:01<00:00, 448.22it/s]\n"
     ]
    },
    {
     "name": "stdout",
     "output_type": "stream",
     "text": [
      "Epoch 10/10, Train Loss: 0.3722, Val Loss: 0.3811, Val Acc: 0.8878\n",
      "Test Accuracy (Depth): 0.8944\n",
      "\n",
      "Training model depth configurations 2\n"
     ]
    },
    {
     "name": "stderr",
     "output_type": "stream",
     "text": [
      "Epoch 1/10: 100%|██████████| 700/700 [00:04<00:00, 148.38it/s]\n"
     ]
    },
    {
     "name": "stdout",
     "output_type": "stream",
     "text": [
      "Epoch 1/10, Train Loss: 1.7905, Val Loss: 1.1582, Val Acc: 0.7013\n"
     ]
    },
    {
     "name": "stderr",
     "output_type": "stream",
     "text": [
      "Epoch 2/10: 100%|██████████| 700/700 [00:04<00:00, 148.07it/s]\n"
     ]
    },
    {
     "name": "stdout",
     "output_type": "stream",
     "text": [
      "Epoch 2/10, Train Loss: 0.8618, Val Loss: 0.6679, Val Acc: 0.8191\n"
     ]
    },
    {
     "name": "stderr",
     "output_type": "stream",
     "text": [
      "Epoch 3/10: 100%|██████████| 700/700 [00:04<00:00, 148.63it/s]\n"
     ]
    },
    {
     "name": "stdout",
     "output_type": "stream",
     "text": [
      "Epoch 3/10, Train Loss: 0.5771, Val Loss: 0.5184, Val Acc: 0.8518\n"
     ]
    },
    {
     "name": "stderr",
     "output_type": "stream",
     "text": [
      "Epoch 4/10: 100%|██████████| 700/700 [00:04<00:00, 152.97it/s]\n"
     ]
    },
    {
     "name": "stdout",
     "output_type": "stream",
     "text": [
      "Epoch 4/10, Train Loss: 0.4740, Val Loss: 0.4523, Val Acc: 0.8677\n"
     ]
    },
    {
     "name": "stderr",
     "output_type": "stream",
     "text": [
      "Epoch 5/10: 100%|██████████| 700/700 [00:04<00:00, 148.06it/s]\n"
     ]
    },
    {
     "name": "stdout",
     "output_type": "stream",
     "text": [
      "Epoch 5/10, Train Loss: 0.4232, Val Loss: 0.4138, Val Acc: 0.8790\n"
     ]
    },
    {
     "name": "stderr",
     "output_type": "stream",
     "text": [
      "Epoch 6/10: 100%|██████████| 700/700 [00:04<00:00, 156.57it/s]\n"
     ]
    },
    {
     "name": "stdout",
     "output_type": "stream",
     "text": [
      "Epoch 6/10, Train Loss: 0.3913, Val Loss: 0.3899, Val Acc: 0.8864\n"
     ]
    },
    {
     "name": "stderr",
     "output_type": "stream",
     "text": [
      "Epoch 7/10: 100%|██████████| 700/700 [00:04<00:00, 155.13it/s]\n"
     ]
    },
    {
     "name": "stdout",
     "output_type": "stream",
     "text": [
      "Epoch 7/10, Train Loss: 0.3690, Val Loss: 0.3695, Val Acc: 0.8899\n"
     ]
    },
    {
     "name": "stderr",
     "output_type": "stream",
     "text": [
      "Epoch 8/10: 100%|██████████| 700/700 [00:04<00:00, 153.71it/s]\n"
     ]
    },
    {
     "name": "stdout",
     "output_type": "stream",
     "text": [
      "Epoch 8/10, Train Loss: 0.3515, Val Loss: 0.3596, Val Acc: 0.8936\n"
     ]
    },
    {
     "name": "stderr",
     "output_type": "stream",
     "text": [
      "Epoch 9/10: 100%|██████████| 700/700 [00:04<00:00, 140.71it/s]\n"
     ]
    },
    {
     "name": "stdout",
     "output_type": "stream",
     "text": [
      "Epoch 9/10, Train Loss: 0.3380, Val Loss: 0.3489, Val Acc: 0.8962\n"
     ]
    },
    {
     "name": "stderr",
     "output_type": "stream",
     "text": [
      "Epoch 10/10: 100%|██████████| 700/700 [00:05<00:00, 139.43it/s]\n"
     ]
    },
    {
     "name": "stdout",
     "output_type": "stream",
     "text": [
      "Epoch 10/10, Train Loss: 0.3266, Val Loss: 0.3350, Val Acc: 0.9003\n",
      "Test Accuracy (Depth 2): 0.9059\n",
      "\n",
      "Training model depth configurations 3\n"
     ]
    },
    {
     "name": "stderr",
     "output_type": "stream",
     "text": [
      "Epoch 1/10: 100%|██████████| 700/700 [00:09<00:00, 73.22it/s]\n"
     ]
    },
    {
     "name": "stdout",
     "output_type": "stream",
     "text": [
      "Epoch 1/10, Train Loss: 1.4409, Val Loss: 0.8098, Val Acc: 0.7788\n"
     ]
    },
    {
     "name": "stderr",
     "output_type": "stream",
     "text": [
      "Epoch 2/10: 100%|██████████| 700/700 [00:09<00:00, 73.23it/s]\n"
     ]
    },
    {
     "name": "stdout",
     "output_type": "stream",
     "text": [
      "Epoch 2/10, Train Loss: 0.6224, Val Loss: 0.5213, Val Acc: 0.8581\n"
     ]
    },
    {
     "name": "stderr",
     "output_type": "stream",
     "text": [
      "Epoch 3/10: 100%|██████████| 700/700 [00:10<00:00, 64.93it/s]\n"
     ]
    },
    {
     "name": "stdout",
     "output_type": "stream",
     "text": [
      "Epoch 3/10, Train Loss: 0.4637, Val Loss: 0.4470, Val Acc: 0.8696\n"
     ]
    },
    {
     "name": "stderr",
     "output_type": "stream",
     "text": [
      "Epoch 4/10: 100%|██████████| 700/700 [00:13<00:00, 53.81it/s]\n"
     ]
    },
    {
     "name": "stdout",
     "output_type": "stream",
     "text": [
      "Epoch 4/10, Train Loss: 0.4047, Val Loss: 0.3949, Val Acc: 0.8834\n"
     ]
    },
    {
     "name": "stderr",
     "output_type": "stream",
     "text": [
      "Epoch 5/10: 100%|██████████| 700/700 [00:12<00:00, 55.78it/s]\n"
     ]
    },
    {
     "name": "stdout",
     "output_type": "stream",
     "text": [
      "Epoch 5/10, Train Loss: 0.3707, Val Loss: 0.3726, Val Acc: 0.8879\n"
     ]
    },
    {
     "name": "stderr",
     "output_type": "stream",
     "text": [
      "Epoch 6/10: 100%|██████████| 700/700 [00:09<00:00, 73.11it/s]\n"
     ]
    },
    {
     "name": "stdout",
     "output_type": "stream",
     "text": [
      "Epoch 6/10, Train Loss: 0.3476, Val Loss: 0.3531, Val Acc: 0.8934\n"
     ]
    },
    {
     "name": "stderr",
     "output_type": "stream",
     "text": [
      "Epoch 7/10: 100%|██████████| 700/700 [00:13<00:00, 53.11it/s]\n"
     ]
    },
    {
     "name": "stdout",
     "output_type": "stream",
     "text": [
      "Epoch 7/10, Train Loss: 0.3302, Val Loss: 0.3308, Val Acc: 0.9029\n"
     ]
    },
    {
     "name": "stderr",
     "output_type": "stream",
     "text": [
      "Epoch 8/10: 100%|██████████| 700/700 [00:11<00:00, 60.35it/s]\n"
     ]
    },
    {
     "name": "stdout",
     "output_type": "stream",
     "text": [
      "Epoch 8/10, Train Loss: 0.3149, Val Loss: 0.3214, Val Acc: 0.9031\n"
     ]
    },
    {
     "name": "stderr",
     "output_type": "stream",
     "text": [
      "Epoch 9/10: 100%|██████████| 700/700 [00:09<00:00, 73.21it/s]\n"
     ]
    },
    {
     "name": "stdout",
     "output_type": "stream",
     "text": [
      "Epoch 9/10, Train Loss: 0.3023, Val Loss: 0.3084, Val Acc: 0.9076\n"
     ]
    },
    {
     "name": "stderr",
     "output_type": "stream",
     "text": [
      "Epoch 10/10: 100%|██████████| 700/700 [00:09<00:00, 74.90it/s]\n"
     ]
    },
    {
     "name": "stdout",
     "output_type": "stream",
     "text": [
      "Epoch 10/10, Train Loss: 0.2911, Val Loss: 0.3005, Val Acc: 0.9101\n",
      "Test Accuracy (Depth 3): 0.9131\n"
     ]
    },
    {
     "data": {
      "image/png": "[encoded data removed]",
      "text/plain": [
       "<Figure size 1200x600 with 1 Axes>"
      ]
     },
     "metadata": {},
     "output_type": "display_data"
    }
   ],
   "source": [
    "print(\"Training model depth configurations 1\")\n",
    "model_depth = NeuralNetwork(\n",
    "    layer_sizes=[784, 128, 64, 32, 10],\n",
    "    activation_names=[None, \"swish\", \"gelu\", \"swish\", \"softmax\"],\n",
    "    loss_function=CategoricalCrossEntropy(),\n",
    "    weight_initializer=HeInitializer(),\n",
    ")\n",
    "\n",
    "history_depth = model_depth.train(\n",
    "    X_train=X_train,\n",
    "    y_train=y_train_cat,\n",
    "    X_val=X_val,\n",
    "    y_val=y_val_cat,\n",
    "    batch_size=64,\n",
    "    learning_rate=0.01,\n",
    "    epochs=10,\n",
    "    momentum=0.9,\n",
    "    verbose=1,\n",
    "    early_stopping_patience=3,\n",
    ")\n",
    "\n",
    "pred_depth = model_depth.forward(X_test)\n",
    "pred_classes_depth = np.argmax(pred_depth, axis=1)\n",
    "accuracy_depth = np.mean(pred_classes_depth == y_test)\n",
    "print(f\"Test Accuracy (Depth): {accuracy_depth:.4f}\\n\")\n",
    "\n",
    "print(\"Training model depth configurations 2\")\n",
    "model_depth_2 = NeuralNetwork(\n",
    "    layer_sizes=[784, 256, 128, 64, 32, 10],\n",
    "    activation_names=[None, \"swish\", \"gelu\", \"swish\", \"gelu\", \"softmax\"],\n",
    "    loss_function=CategoricalCrossEntropy(),\n",
    "    weight_initializer=HeInitializer(),\n",
    ")\n",
    "\n",
    "history_depth_2 = model_depth_2.train(\n",
    "    X_train=X_train,\n",
    "    y_train=y_train_cat,\n",
    "    X_val=X_val,\n",
    "    y_val=y_val_cat,\n",
    "    batch_size=64,\n",
    "    learning_rate=0.01,\n",
    "    epochs=10,\n",
    "    momentum=0.9,\n",
    "    verbose=1,\n",
    "    early_stopping_patience=3,\n",
    ")\n",
    "\n",
    "pred_depth_2 = model_depth_2.forward(X_test)\n",
    "pred_classes_depth_2 = np.argmax(pred_depth_2, axis=1)\n",
    "accuracy_depth_2 = np.mean(pred_classes_depth_2 == y_test)\n",
    "print(f\"Test Accuracy (Depth 2): {accuracy_depth_2:.4f}\\n\")\n",
    "\n",
    "print(\"Training model depth configurations 3\")\n",
    "model_depth_3 = NeuralNetwork(\n",
    "    layer_sizes=[784, 512, 256, 128, 64, 32, 10],\n",
    "    activation_names=[None, \"swish\", \"gelu\", \"swish\", \"gelu\", \"swish\", \"softmax\"],\n",
    "    loss_function=CategoricalCrossEntropy(),\n",
    "    weight_initializer=HeInitializer(),\n",
    ")\n",
    "\n",
    "history_depth_3 = model_depth_3.train(\n",
    "    X_train=X_train,\n",
    "    y_train=y_train_cat,\n",
    "    X_val=X_val,\n",
    "    y_val=y_val_cat,\n",
    "    batch_size=64,\n",
    "    learning_rate=0.01,\n",
    "    epochs=10,\n",
    "    momentum=0.9,\n",
    "    verbose=1,\n",
    "    early_stopping_patience=3,\n",
    ")\n",
    "\n",
    "pred_depth_3 = model_depth_3.forward(X_test)\n",
    "pred_classes_depth_3 = np.argmax(pred_depth_3, axis=1)\n",
    "accuracy_depth_3 = np.mean(pred_classes_depth_3 == y_test)\n",
    "print(f\"Test Accuracy (Depth 3): {accuracy_depth_3:.4f}\")\n",
    "\n",
    "# grafik perbandingan loss\n",
    "plt.figure(figsize=(12, 6))\n",
    "plt.plot(\n",
    "    history_depth[\"train_loss\"], label=\"Train Loss (Depth)\"\n",
    ")\n",
    "plt.plot(\n",
    "    history_depth_2[\"train_loss\"], label=\"Train Loss (Depth 2)\"\n",
    ")\n",
    "plt.plot(\n",
    "    history_depth_3[\"train_loss\"], label=\"Train Loss (Depth 3)\"\n",
    ")\n",
    "plt.title(\"Perbandingan Training Loss\")\n",
    "plt.xlabel(\"Epochs\")\n",
    "plt.ylabel(\"Loss\")\n",
    "plt.legend()\n",
    "plt.grid()\n",
    "plt.show()"
   ]
  },
  {
   "cell_type": "markdown",
   "metadata": {},
   "source": [
    "#### Variasi pada Width"
   ]
  },
  {
   "cell_type": "code",
   "execution_count": null,
   "metadata": {},
   "outputs": [
    {
     "name": "stdout",
     "output_type": "stream",
     "text": [
      "Training model width configurations 1\n"
     ]
    },
    {
     "name": "stderr",
     "output_type": "stream",
     "text": [
      "Epoch 1/10: 100%|██████████| 700/700 [00:05<00:00, 123.12it/s]\n"
     ]
    },
    {
     "name": "stdout",
     "output_type": "stream",
     "text": [
      "Epoch 1/10, Train Loss: 1.6741, Val Loss: 1.1882, Val Acc: 0.7214\n"
     ]
    },
    {
     "name": "stderr",
     "output_type": "stream",
     "text": [
      "Epoch 2/10: 100%|██████████| 700/700 [00:04<00:00, 146.89it/s]\n"
     ]
    },
    {
     "name": "stdout",
     "output_type": "stream",
     "text": [
      "Epoch 2/10, Train Loss: 0.9520, Val Loss: 0.7853, Val Acc: 0.8071\n"
     ]
    },
    {
     "name": "stderr",
     "output_type": "stream",
     "text": [
      "Epoch 3/10: 100%|██████████| 700/700 [00:04<00:00, 146.07it/s]\n"
     ]
    },
    {
     "name": "stdout",
     "output_type": "stream",
     "text": [
      "Epoch 3/10, Train Loss: 0.6883, Val Loss: 0.6221, Val Acc: 0.8391\n"
     ]
    },
    {
     "name": "stderr",
     "output_type": "stream",
     "text": [
      "Epoch 4/10: 100%|██████████| 700/700 [00:04<00:00, 147.73it/s]\n"
     ]
    },
    {
     "name": "stdout",
     "output_type": "stream",
     "text": [
      "Epoch 4/10, Train Loss: 0.5687, Val Loss: 0.5401, Val Acc: 0.8533\n"
     ]
    },
    {
     "name": "stderr",
     "output_type": "stream",
     "text": [
      "Epoch 5/10: 100%|██████████| 700/700 [00:04<00:00, 149.56it/s]\n"
     ]
    },
    {
     "name": "stdout",
     "output_type": "stream",
     "text": [
      "Epoch 5/10, Train Loss: 0.5017, Val Loss: 0.4880, Val Acc: 0.8649\n"
     ]
    },
    {
     "name": "stderr",
     "output_type": "stream",
     "text": [
      "Epoch 6/10: 100%|██████████| 700/700 [00:05<00:00, 135.90it/s]\n"
     ]
    },
    {
     "name": "stdout",
     "output_type": "stream",
     "text": [
      "Epoch 6/10, Train Loss: 0.4593, Val Loss: 0.4532, Val Acc: 0.8712\n"
     ]
    },
    {
     "name": "stderr",
     "output_type": "stream",
     "text": [
      "Epoch 7/10: 100%|██████████| 700/700 [00:04<00:00, 144.57it/s]\n"
     ]
    },
    {
     "name": "stdout",
     "output_type": "stream",
     "text": [
      "Epoch 7/10, Train Loss: 0.4299, Val Loss: 0.4294, Val Acc: 0.8766\n"
     ]
    },
    {
     "name": "stderr",
     "output_type": "stream",
     "text": [
      "Epoch 8/10: 100%|██████████| 700/700 [00:04<00:00, 147.23it/s]\n"
     ]
    },
    {
     "name": "stdout",
     "output_type": "stream",
     "text": [
      "Epoch 8/10, Train Loss: 0.4080, Val Loss: 0.4115, Val Acc: 0.8806\n"
     ]
    },
    {
     "name": "stderr",
     "output_type": "stream",
     "text": [
      "Epoch 9/10: 100%|██████████| 700/700 [00:05<00:00, 128.12it/s]\n"
     ]
    },
    {
     "name": "stdout",
     "output_type": "stream",
     "text": [
      "Epoch 9/10, Train Loss: 0.3914, Val Loss: 0.3959, Val Acc: 0.8846\n"
     ]
    },
    {
     "name": "stderr",
     "output_type": "stream",
     "text": [
      "Epoch 10/10: 100%|██████████| 700/700 [00:04<00:00, 142.85it/s]\n"
     ]
    },
    {
     "name": "stdout",
     "output_type": "stream",
     "text": [
      "Epoch 10/10, Train Loss: 0.3779, Val Loss: 0.3834, Val Acc: 0.8884\n",
      "Test Accuracy (Width): 0.8916\n",
      "\n",
      "Training model width configurations 2\n"
     ]
    },
    {
     "name": "stderr",
     "output_type": "stream",
     "text": [
      "Epoch 1/10: 100%|██████████| 700/700 [00:13<00:00, 53.08it/s]\n"
     ]
    },
    {
     "name": "stdout",
     "output_type": "stream",
     "text": [
      "Epoch 1/10, Train Loss: 1.4462, Val Loss: 0.9365, Val Acc: 0.8011\n"
     ]
    },
    {
     "name": "stderr",
     "output_type": "stream",
     "text": [
      "Epoch 2/10: 100%|██████████| 700/700 [00:10<00:00, 64.86it/s]\n"
     ]
    },
    {
     "name": "stdout",
     "output_type": "stream",
     "text": [
      "Epoch 2/10, Train Loss: 0.7573, Val Loss: 0.6460, Val Acc: 0.8400\n"
     ]
    },
    {
     "name": "stderr",
     "output_type": "stream",
     "text": [
      "Epoch 3/10: 100%|██████████| 700/700 [00:11<00:00, 62.35it/s]\n"
     ]
    },
    {
     "name": "stdout",
     "output_type": "stream",
     "text": [
      "Epoch 3/10, Train Loss: 0.5762, Val Loss: 0.5362, Val Acc: 0.8588\n"
     ]
    },
    {
     "name": "stderr",
     "output_type": "stream",
     "text": [
      "Epoch 4/10: 100%|██████████| 700/700 [00:11<00:00, 58.74it/s]\n"
     ]
    },
    {
     "name": "stdout",
     "output_type": "stream",
     "text": [
      "Epoch 4/10, Train Loss: 0.4964, Val Loss: 0.4779, Val Acc: 0.8687\n"
     ]
    },
    {
     "name": "stderr",
     "output_type": "stream",
     "text": [
      "Epoch 5/10: 100%|██████████| 700/700 [00:12<00:00, 54.62it/s]\n"
     ]
    },
    {
     "name": "stdout",
     "output_type": "stream",
     "text": [
      "Epoch 5/10, Train Loss: 0.4504, Val Loss: 0.4447, Val Acc: 0.8767\n"
     ]
    },
    {
     "name": "stderr",
     "output_type": "stream",
     "text": [
      "Epoch 6/10: 100%|██████████| 700/700 [00:10<00:00, 65.85it/s]\n"
     ]
    },
    {
     "name": "stdout",
     "output_type": "stream",
     "text": [
      "Epoch 6/10, Train Loss: 0.4206, Val Loss: 0.4207, Val Acc: 0.8779\n"
     ]
    },
    {
     "name": "stderr",
     "output_type": "stream",
     "text": [
      "Epoch 7/10: 100%|██████████| 700/700 [00:10<00:00, 65.16it/s]\n"
     ]
    },
    {
     "name": "stdout",
     "output_type": "stream",
     "text": [
      "Epoch 7/10, Train Loss: 0.3989, Val Loss: 0.4010, Val Acc: 0.8835\n"
     ]
    },
    {
     "name": "stderr",
     "output_type": "stream",
     "text": [
      "Epoch 8/10: 100%|██████████| 700/700 [00:10<00:00, 65.29it/s]\n"
     ]
    },
    {
     "name": "stdout",
     "output_type": "stream",
     "text": [
      "Epoch 8/10, Train Loss: 0.3828, Val Loss: 0.3863, Val Acc: 0.8882\n"
     ]
    },
    {
     "name": "stderr",
     "output_type": "stream",
     "text": [
      "Epoch 9/10: 100%|██████████| 700/700 [00:10<00:00, 65.64it/s]\n"
     ]
    },
    {
     "name": "stdout",
     "output_type": "stream",
     "text": [
      "Epoch 9/10, Train Loss: 0.3695, Val Loss: 0.3762, Val Acc: 0.8912\n"
     ]
    },
    {
     "name": "stderr",
     "output_type": "stream",
     "text": [
      "Epoch 10/10: 100%|██████████| 700/700 [00:10<00:00, 66.29it/s]\n"
     ]
    },
    {
     "name": "stdout",
     "output_type": "stream",
     "text": [
      "Epoch 10/10, Train Loss: 0.3588, Val Loss: 0.3677, Val Acc: 0.8925\n",
      "Test Accuracy (Width 2): 0.9001\n",
      "\n",
      "Training model width configurations 3\n"
     ]
    },
    {
     "name": "stderr",
     "output_type": "stream",
     "text": [
      "Epoch 1/10: 100%|██████████| 700/700 [00:34<00:00, 20.15it/s]\n"
     ]
    },
    {
     "name": "stdout",
     "output_type": "stream",
     "text": [
      "Epoch 1/10, Train Loss: 1.3705, Val Loss: 0.8493, Val Acc: 0.7984\n"
     ]
    },
    {
     "name": "stderr",
     "output_type": "stream",
     "text": [
      "Epoch 2/10: 100%|██████████| 700/700 [00:34<00:00, 20.48it/s]\n"
     ]
    },
    {
     "name": "stdout",
     "output_type": "stream",
     "text": [
      "Epoch 2/10, Train Loss: 0.6907, Val Loss: 0.6019, Val Acc: 0.8413\n"
     ]
    },
    {
     "name": "stderr",
     "output_type": "stream",
     "text": [
      "Epoch 3/10: 100%|██████████| 700/700 [00:34<00:00, 20.55it/s]\n"
     ]
    },
    {
     "name": "stdout",
     "output_type": "stream",
     "text": [
      "Epoch 3/10, Train Loss: 0.5379, Val Loss: 0.5096, Val Acc: 0.8600\n"
     ]
    },
    {
     "name": "stderr",
     "output_type": "stream",
     "text": [
      "Epoch 4/10: 100%|██████████| 700/700 [00:32<00:00, 21.69it/s]\n"
     ]
    },
    {
     "name": "stdout",
     "output_type": "stream",
     "text": [
      "Epoch 4/10, Train Loss: 0.4688, Val Loss: 0.4575, Val Acc: 0.8747\n"
     ]
    },
    {
     "name": "stderr",
     "output_type": "stream",
     "text": [
      "Epoch 5/10: 100%|██████████| 700/700 [00:34<00:00, 20.58it/s]\n"
     ]
    },
    {
     "name": "stdout",
     "output_type": "stream",
     "text": [
      "Epoch 5/10, Train Loss: 0.4289, Val Loss: 0.4234, Val Acc: 0.8788\n"
     ]
    },
    {
     "name": "stderr",
     "output_type": "stream",
     "text": [
      "Epoch 6/10: 100%|██████████| 700/700 [00:30<00:00, 22.75it/s]\n"
     ]
    },
    {
     "name": "stdout",
     "output_type": "stream",
     "text": [
      "Epoch 6/10, Train Loss: 0.4018, Val Loss: 0.4075, Val Acc: 0.8830\n"
     ]
    },
    {
     "name": "stderr",
     "output_type": "stream",
     "text": [
      "Epoch 7/10: 100%|██████████| 700/700 [00:34<00:00, 20.56it/s]\n"
     ]
    },
    {
     "name": "stdout",
     "output_type": "stream",
     "text": [
      "Epoch 7/10, Train Loss: 0.3832, Val Loss: 0.3854, Val Acc: 0.8885\n"
     ]
    },
    {
     "name": "stderr",
     "output_type": "stream",
     "text": [
      "Epoch 8/10: 100%|██████████| 700/700 [00:27<00:00, 25.32it/s]\n"
     ]
    },
    {
     "name": "stdout",
     "output_type": "stream",
     "text": [
      "Epoch 8/10, Train Loss: 0.3686, Val Loss: 0.3789, Val Acc: 0.8892\n"
     ]
    },
    {
     "name": "stderr",
     "output_type": "stream",
     "text": [
      "Epoch 9/10: 100%|██████████| 700/700 [00:25<00:00, 27.41it/s]\n"
     ]
    },
    {
     "name": "stdout",
     "output_type": "stream",
     "text": [
      "Epoch 9/10, Train Loss: 0.3569, Val Loss: 0.3650, Val Acc: 0.8932\n"
     ]
    },
    {
     "name": "stderr",
     "output_type": "stream",
     "text": [
      "Epoch 10/10: 100%|██████████| 700/700 [00:25<00:00, 27.55it/s]\n"
     ]
    },
    {
     "name": "stdout",
     "output_type": "stream",
     "text": [
      "Epoch 10/10, Train Loss: 0.3476, Val Loss: 0.3576, Val Acc: 0.8932\n",
      "Test Accuracy (Width 3): 0.8994\n"
     ]
    },
    {
     "data": {
      "image/png": "[encoded data removed]",
      "text/plain": [
       "<Figure size 1200x600 with 1 Axes>"
      ]
     },
     "metadata": {},
     "output_type": "display_data"
    }
   ],
   "source": [
    "print(\"Training model width configurations 1\")\n",
    "model_width = NeuralNetwork(\n",
    "    layer_sizes=[784, 256, 256, 10],\n",
    "    activation_names=[None, \"swish\", \"gelu\", \"softmax\"],\n",
    "    loss_function=CategoricalCrossEntropy(),\n",
    "    weight_initializer=HeInitializer(),\n",
    ")\n",
    "\n",
    "history_width = model_width.train(\n",
    "    X_train=X_train,\n",
    "    y_train=y_train_cat,\n",
    "    X_val=X_val,\n",
    "    y_val=y_val_cat,\n",
    "    batch_size=64,\n",
    "    learning_rate=0.01,\n",
    "    epochs=10,\n",
    "    momentum=0.9,\n",
    "    verbose=1,\n",
    "    early_stopping_patience=3,\n",
    ")\n",
    "\n",
    "pred_width = model_width.forward(X_test)\n",
    "pred_classes_width = np.argmax(pred_width, axis=1)\n",
    "accuracy_width = np.mean(pred_classes_width == y_test)\n",
    "print(f\"Test Accuracy (Width): {accuracy_width:.4f}\\n\")\n",
    "\n",
    "print(\"Training model width configurations 2\")\n",
    "model_width_2 = NeuralNetwork(\n",
    "    layer_sizes=[784, 512, 512, 10],\n",
    "    activation_names=[None, \"swish\", \"gelu\", \"softmax\"],\n",
    "    loss_function=CategoricalCrossEntropy(),\n",
    "    weight_initializer=HeInitializer(),\n",
    ")\n",
    "\n",
    "history_width_2 = model_width_2.train(\n",
    "    X_train=X_train,\n",
    "    y_train=y_train_cat,\n",
    "    X_val=X_val,\n",
    "    y_val=y_val_cat,\n",
    "    batch_size=64,\n",
    "    learning_rate=0.01,\n",
    "    epochs=10,\n",
    "    momentum=0.9,\n",
    "    verbose=1,\n",
    "    early_stopping_patience=3,\n",
    ")\n",
    "\n",
    "pred_width_2 = model_width_2.forward(X_test)\n",
    "pred_classes_width_2 = np.argmax(pred_width_2, axis=1)\n",
    "accuracy_width_2 = np.mean(pred_classes_width_2 == y_test)\n",
    "print(f\"Test Accuracy (Width 2): {accuracy_width_2:.4f}\\n\")\n",
    "\n",
    "print(\"Training model width configurations 3\")\n",
    "model_width_3 = NeuralNetwork(\n",
    "    layer_sizes=[784, 1024, 1024, 10],\n",
    "    activation_names=[None, \"swish\", \"gelu\", \"softmax\"],\n",
    "    loss_function=CategoricalCrossEntropy(),\n",
    "    weight_initializer=HeInitializer(),\n",
    ")\n",
    "\n",
    "history_width_3 = model_width_3.train(\n",
    "    X_train=X_train,\n",
    "    y_train=y_train_cat,\n",
    "    X_val=X_val,\n",
    "    y_val=y_val_cat,\n",
    "    batch_size=64,\n",
    "    learning_rate=0.01,\n",
    "    epochs=10,\n",
    "    momentum=0.9,\n",
    "    verbose=1,\n",
    "    early_stopping_patience=3,\n",
    ")\n",
    "\n",
    "pred_width_3 = model_width_3.forward(X_test)\n",
    "pred_classes_width_3 = np.argmax(pred_width_3, axis=1)\n",
    "accuracy_width_3 = np.mean(pred_classes_width_3 == y_test)\n",
    "print(f\"Test Accuracy (Width 3): {accuracy_width_3:.4f}\")\n",
    "\n",
    "# grafik perbandingan loss\n",
    "plt.figure(figsize=(12, 6))\n",
    "plt.plot(\n",
    "    history_width[\"train_loss\"], label=\"Train Loss (Width)\"\n",
    ")\n",
    "plt.plot(\n",
    "    history_width_2[\"train_loss\"], label=\"Train Loss (Width 2)\"\n",
    ")\n",
    "plt.plot(\n",
    "    history_width_3[\"train_loss\"], label=\"Train Loss (Width 3)\"\n",
    ")\n",
    "plt.title(\"Perbandingan Training Loss\")\n",
    "plt.xlabel(\"Epochs\")\n",
    "plt.ylabel(\"Loss\")\n",
    "plt.legend()\n",
    "plt.grid()\n",
    "plt.show()"
   ]
  },
  {
   "cell_type": "markdown",
   "metadata": {},
   "source": [
    "### Pengaruh Fungsi Aktivasi Hidden Layer"
   ]
  },
  {
   "cell_type": "code",
   "execution_count": null,
   "metadata": {},
   "outputs": [
    {
     "name": "stdout",
     "output_type": "stream",
     "text": [
      "Training model activation linear\n"
     ]
    },
    {
     "name": "stderr",
     "output_type": "stream",
     "text": [
      "Epoch 1/10: 100%|██████████| 700/700 [00:01<00:00, 428.65it/s]\n"
     ]
    },
    {
     "name": "stdout",
     "output_type": "stream",
     "text": [
      "Epoch 1/10, Train Loss: 1.6282, Val Loss: 1.0849, Val Acc: 0.7438\n"
     ]
    },
    {
     "name": "stderr",
     "output_type": "stream",
     "text": [
      "Epoch 2/10: 100%|██████████| 700/700 [00:01<00:00, 457.55it/s]\n"
     ]
    },
    {
     "name": "stdout",
     "output_type": "stream",
     "text": [
      "Epoch 2/10, Train Loss: 0.8736, Val Loss: 0.7426, Val Acc: 0.8110\n"
     ]
    },
    {
     "name": "stderr",
     "output_type": "stream",
     "text": [
      "Epoch 3/10: 100%|██████████| 700/700 [00:01<00:00, 558.70it/s]\n"
     ]
    },
    {
     "name": "stdout",
     "output_type": "stream",
     "text": [
      "Epoch 3/10, Train Loss: 0.6565, Val Loss: 0.6084, Val Acc: 0.8371\n"
     ]
    },
    {
     "name": "stderr",
     "output_type": "stream",
     "text": [
      "Epoch 4/10: 100%|██████████| 700/700 [00:01<00:00, 626.70it/s]\n"
     ]
    },
    {
     "name": "stdout",
     "output_type": "stream",
     "text": [
      "Epoch 4/10, Train Loss: 0.5568, Val Loss: 0.5347, Val Acc: 0.8514\n"
     ]
    },
    {
     "name": "stderr",
     "output_type": "stream",
     "text": [
      "Epoch 5/10: 100%|██████████| 700/700 [00:01<00:00, 631.14it/s]\n"
     ]
    },
    {
     "name": "stdout",
     "output_type": "stream",
     "text": [
      "Epoch 5/10, Train Loss: 0.4980, Val Loss: 0.4888, Val Acc: 0.8621\n"
     ]
    },
    {
     "name": "stderr",
     "output_type": "stream",
     "text": [
      "Epoch 6/10: 100%|██████████| 700/700 [00:01<00:00, 691.41it/s]\n"
     ]
    },
    {
     "name": "stdout",
     "output_type": "stream",
     "text": [
      "Epoch 6/10, Train Loss: 0.4596, Val Loss: 0.4586, Val Acc: 0.8688\n"
     ]
    },
    {
     "name": "stderr",
     "output_type": "stream",
     "text": [
      "Epoch 7/10: 100%|██████████| 700/700 [00:01<00:00, 664.10it/s]\n"
     ]
    },
    {
     "name": "stdout",
     "output_type": "stream",
     "text": [
      "Epoch 7/10, Train Loss: 0.4324, Val Loss: 0.4358, Val Acc: 0.8741\n"
     ]
    },
    {
     "name": "stderr",
     "output_type": "stream",
     "text": [
      "Epoch 8/10: 100%|██████████| 700/700 [00:01<00:00, 695.84it/s]\n"
     ]
    },
    {
     "name": "stdout",
     "output_type": "stream",
     "text": [
      "Epoch 8/10, Train Loss: 0.4124, Val Loss: 0.4176, Val Acc: 0.8800\n"
     ]
    },
    {
     "name": "stderr",
     "output_type": "stream",
     "text": [
      "Epoch 9/10: 100%|██████████| 700/700 [00:01<00:00, 641.24it/s]\n"
     ]
    },
    {
     "name": "stdout",
     "output_type": "stream",
     "text": [
      "Epoch 9/10, Train Loss: 0.3963, Val Loss: 0.4032, Val Acc: 0.8838\n"
     ]
    },
    {
     "name": "stderr",
     "output_type": "stream",
     "text": [
      "Epoch 10/10: 100%|██████████| 700/700 [00:00<00:00, 710.35it/s]\n"
     ]
    },
    {
     "name": "stdout",
     "output_type": "stream",
     "text": [
      "Epoch 10/10, Train Loss: 0.3832, Val Loss: 0.3921, Val Acc: 0.8858\n",
      "Test Accuracy (Activation Linear): 0.8917\n",
      "\n",
      "Training model activation relu\n"
     ]
    },
    {
     "name": "stderr",
     "output_type": "stream",
     "text": [
      "Epoch 1/10: 100%|██████████| 700/700 [00:01<00:00, 639.64it/s]\n"
     ]
    },
    {
     "name": "stdout",
     "output_type": "stream",
     "text": [
      "Epoch 1/10, Train Loss: 2.0103, Val Loss: 1.4784, Val Acc: 0.6462\n"
     ]
    },
    {
     "name": "stderr",
     "output_type": "stream",
     "text": [
      "Epoch 2/10: 100%|██████████| 700/700 [00:01<00:00, 624.63it/s]\n"
     ]
    },
    {
     "name": "stdout",
     "output_type": "stream",
     "text": [
      "Epoch 2/10, Train Loss: 1.1994, Val Loss: 0.9879, Val Acc: 0.7630\n"
     ]
    },
    {
     "name": "stderr",
     "output_type": "stream",
     "text": [
      "Epoch 3/10: 100%|██████████| 700/700 [00:01<00:00, 641.97it/s]\n"
     ]
    },
    {
     "name": "stdout",
     "output_type": "stream",
     "text": [
      "Epoch 3/10, Train Loss: 0.8562, Val Loss: 0.7627, Val Acc: 0.8079\n"
     ]
    },
    {
     "name": "stderr",
     "output_type": "stream",
     "text": [
      "Epoch 4/10: 100%|██████████| 700/700 [00:00<00:00, 713.62it/s]\n"
     ]
    },
    {
     "name": "stdout",
     "output_type": "stream",
     "text": [
      "Epoch 4/10, Train Loss: 0.6886, Val Loss: 0.6418, Val Acc: 0.8321\n"
     ]
    },
    {
     "name": "stderr",
     "output_type": "stream",
     "text": [
      "Epoch 5/10: 100%|██████████| 700/700 [00:01<00:00, 644.77it/s]\n"
     ]
    },
    {
     "name": "stdout",
     "output_type": "stream",
     "text": [
      "Epoch 5/10, Train Loss: 0.5922, Val Loss: 0.5651, Val Acc: 0.8466\n"
     ]
    },
    {
     "name": "stderr",
     "output_type": "stream",
     "text": [
      "Epoch 6/10: 100%|██████████| 700/700 [00:00<00:00, 715.67it/s]\n"
     ]
    },
    {
     "name": "stdout",
     "output_type": "stream",
     "text": [
      "Epoch 6/10, Train Loss: 0.5301, Val Loss: 0.5154, Val Acc: 0.8584\n"
     ]
    },
    {
     "name": "stderr",
     "output_type": "stream",
     "text": [
      "Epoch 7/10: 100%|██████████| 700/700 [00:01<00:00, 655.23it/s]\n"
     ]
    },
    {
     "name": "stdout",
     "output_type": "stream",
     "text": [
      "Epoch 7/10, Train Loss: 0.4873, Val Loss: 0.4788, Val Acc: 0.8662\n"
     ]
    },
    {
     "name": "stderr",
     "output_type": "stream",
     "text": [
      "Epoch 8/10: 100%|██████████| 700/700 [00:01<00:00, 699.27it/s]\n"
     ]
    },
    {
     "name": "stdout",
     "output_type": "stream",
     "text": [
      "Epoch 8/10, Train Loss: 0.4561, Val Loss: 0.4524, Val Acc: 0.8720\n"
     ]
    },
    {
     "name": "stderr",
     "output_type": "stream",
     "text": [
      "Epoch 9/10: 100%|██████████| 700/700 [00:01<00:00, 676.98it/s]\n"
     ]
    },
    {
     "name": "stdout",
     "output_type": "stream",
     "text": [
      "Epoch 9/10, Train Loss: 0.4325, Val Loss: 0.4320, Val Acc: 0.8767\n"
     ]
    },
    {
     "name": "stderr",
     "output_type": "stream",
     "text": [
      "Epoch 10/10: 100%|██████████| 700/700 [00:00<00:00, 721.37it/s]\n"
     ]
    },
    {
     "name": "stdout",
     "output_type": "stream",
     "text": [
      "Epoch 10/10, Train Loss: 0.4136, Val Loss: 0.4157, Val Acc: 0.8796\n",
      "Test Accuracy (Activation ReLU): 0.8833\n",
      "\n",
      "Training model activation sigmoid\n"
     ]
    },
    {
     "name": "stderr",
     "output_type": "stream",
     "text": [
      "Epoch 1/10: 100%|██████████| 700/700 [00:01<00:00, 636.77it/s]\n"
     ]
    },
    {
     "name": "stdout",
     "output_type": "stream",
     "text": [
      "Epoch 1/10, Train Loss: 2.3509, Val Loss: 2.2015, Val Acc: 0.3526\n"
     ]
    },
    {
     "name": "stderr",
     "output_type": "stream",
     "text": [
      "Epoch 2/10: 100%|██████████| 700/700 [00:01<00:00, 666.80it/s]\n"
     ]
    },
    {
     "name": "stdout",
     "output_type": "stream",
     "text": [
      "Epoch 2/10, Train Loss: 2.1608, Val Loss: 2.1157, Val Acc: 0.4725\n"
     ]
    },
    {
     "name": "stderr",
     "output_type": "stream",
     "text": [
      "Epoch 3/10: 100%|██████████| 700/700 [00:01<00:00, 650.73it/s]\n"
     ]
    },
    {
     "name": "stdout",
     "output_type": "stream",
     "text": [
      "Epoch 3/10, Train Loss: 2.0678, Val Loss: 2.0146, Val Acc: 0.5871\n"
     ]
    },
    {
     "name": "stderr",
     "output_type": "stream",
     "text": [
      "Epoch 4/10: 100%|██████████| 700/700 [00:01<00:00, 613.09it/s]\n"
     ]
    },
    {
     "name": "stdout",
     "output_type": "stream",
     "text": [
      "Epoch 4/10, Train Loss: 1.9587, Val Loss: 1.8952, Val Acc: 0.6338\n"
     ]
    },
    {
     "name": "stderr",
     "output_type": "stream",
     "text": [
      "Epoch 5/10: 100%|██████████| 700/700 [00:01<00:00, 634.50it/s]\n"
     ]
    },
    {
     "name": "stdout",
     "output_type": "stream",
     "text": [
      "Epoch 5/10, Train Loss: 1.8301, Val Loss: 1.7567, Val Acc: 0.6727\n"
     ]
    },
    {
     "name": "stderr",
     "output_type": "stream",
     "text": [
      "Epoch 6/10: 100%|██████████| 700/700 [00:01<00:00, 636.70it/s]\n"
     ]
    },
    {
     "name": "stdout",
     "output_type": "stream",
     "text": [
      "Epoch 6/10, Train Loss: 1.6841, Val Loss: 1.6038, Val Acc: 0.7013\n"
     ]
    },
    {
     "name": "stderr",
     "output_type": "stream",
     "text": [
      "Epoch 7/10: 100%|██████████| 700/700 [00:01<00:00, 671.21it/s]\n"
     ]
    },
    {
     "name": "stdout",
     "output_type": "stream",
     "text": [
      "Epoch 7/10, Train Loss: 1.5278, Val Loss: 1.4470, Val Acc: 0.7176\n"
     ]
    },
    {
     "name": "stderr",
     "output_type": "stream",
     "text": [
      "Epoch 8/10: 100%|██████████| 700/700 [00:01<00:00, 648.09it/s]\n"
     ]
    },
    {
     "name": "stdout",
     "output_type": "stream",
     "text": [
      "Epoch 8/10, Train Loss: 1.3740, Val Loss: 1.2995, Val Acc: 0.7444\n"
     ]
    },
    {
     "name": "stderr",
     "output_type": "stream",
     "text": [
      "Epoch 9/10: 100%|██████████| 700/700 [00:01<00:00, 637.25it/s]\n"
     ]
    },
    {
     "name": "stdout",
     "output_type": "stream",
     "text": [
      "Epoch 9/10, Train Loss: 1.2339, Val Loss: 1.1703, Val Acc: 0.7607\n"
     ]
    },
    {
     "name": "stderr",
     "output_type": "stream",
     "text": [
      "Epoch 10/10: 100%|██████████| 700/700 [00:01<00:00, 634.84it/s]\n"
     ]
    },
    {
     "name": "stdout",
     "output_type": "stream",
     "text": [
      "Epoch 10/10, Train Loss: 1.1131, Val Loss: 1.0610, Val Acc: 0.7707\n",
      "Test Accuracy (Activation Sigmoid): 0.7780\n",
      "\n",
      "Training model activation tanh\n"
     ]
    },
    {
     "name": "stderr",
     "output_type": "stream",
     "text": [
      "Epoch 1/10: 100%|██████████| 700/700 [00:01<00:00, 634.79it/s]\n"
     ]
    },
    {
     "name": "stdout",
     "output_type": "stream",
     "text": [
      "Epoch 1/10, Train Loss: 2.0118, Val Loss: 1.4951, Val Acc: 0.6199\n"
     ]
    },
    {
     "name": "stderr",
     "output_type": "stream",
     "text": [
      "Epoch 2/10: 100%|██████████| 700/700 [00:01<00:00, 589.29it/s]\n"
     ]
    },
    {
     "name": "stdout",
     "output_type": "stream",
     "text": [
      "Epoch 2/10, Train Loss: 1.2369, Val Loss: 1.0330, Val Acc: 0.7553\n"
     ]
    },
    {
     "name": "stderr",
     "output_type": "stream",
     "text": [
      "Epoch 3/10: 100%|██████████| 700/700 [00:01<00:00, 561.27it/s]\n"
     ]
    },
    {
     "name": "stdout",
     "output_type": "stream",
     "text": [
      "Epoch 3/10, Train Loss: 0.9014, Val Loss: 0.8013, Val Acc: 0.8074\n"
     ]
    },
    {
     "name": "stderr",
     "output_type": "stream",
     "text": [
      "Epoch 4/10: 100%|██████████| 700/700 [00:01<00:00, 614.42it/s]\n"
     ]
    },
    {
     "name": "stdout",
     "output_type": "stream",
     "text": [
      "Epoch 4/10, Train Loss: 0.7256, Val Loss: 0.6708, Val Acc: 0.8313\n"
     ]
    },
    {
     "name": "stderr",
     "output_type": "stream",
     "text": [
      "Epoch 5/10: 100%|██████████| 700/700 [00:01<00:00, 598.11it/s]\n"
     ]
    },
    {
     "name": "stdout",
     "output_type": "stream",
     "text": [
      "Epoch 5/10, Train Loss: 0.6208, Val Loss: 0.5885, Val Acc: 0.8459\n"
     ]
    },
    {
     "name": "stderr",
     "output_type": "stream",
     "text": [
      "Epoch 6/10: 100%|██████████| 700/700 [00:01<00:00, 579.36it/s]\n"
     ]
    },
    {
     "name": "stdout",
     "output_type": "stream",
     "text": [
      "Epoch 6/10, Train Loss: 0.5514, Val Loss: 0.5315, Val Acc: 0.8579\n"
     ]
    },
    {
     "name": "stderr",
     "output_type": "stream",
     "text": [
      "Epoch 7/10: 100%|██████████| 700/700 [00:01<00:00, 577.77it/s]\n"
     ]
    },
    {
     "name": "stdout",
     "output_type": "stream",
     "text": [
      "Epoch 7/10, Train Loss: 0.5023, Val Loss: 0.4908, Val Acc: 0.8647\n"
     ]
    },
    {
     "name": "stderr",
     "output_type": "stream",
     "text": [
      "Epoch 8/10: 100%|██████████| 700/700 [00:01<00:00, 599.10it/s]\n"
     ]
    },
    {
     "name": "stdout",
     "output_type": "stream",
     "text": [
      "Epoch 8/10, Train Loss: 0.4663, Val Loss: 0.4611, Val Acc: 0.8718\n"
     ]
    },
    {
     "name": "stderr",
     "output_type": "stream",
     "text": [
      "Epoch 9/10: 100%|██████████| 700/700 [00:01<00:00, 593.21it/s]\n"
     ]
    },
    {
     "name": "stdout",
     "output_type": "stream",
     "text": [
      "Epoch 9/10, Train Loss: 0.4393, Val Loss: 0.4371, Val Acc: 0.8790\n"
     ]
    },
    {
     "name": "stderr",
     "output_type": "stream",
     "text": [
      "Epoch 10/10: 100%|██████████| 700/700 [00:01<00:00, 602.28it/s]\n"
     ]
    },
    {
     "name": "stdout",
     "output_type": "stream",
     "text": [
      "Epoch 10/10, Train Loss: 0.4182, Val Loss: 0.4192, Val Acc: 0.8823\n",
      "Test Accuracy (Activation Tanh): 0.8851\n",
      "\n",
      "Training model activation swish\n"
     ]
    },
    {
     "name": "stderr",
     "output_type": "stream",
     "text": [
      "Epoch 1/10: 100%|██████████| 700/700 [00:01<00:00, 654.02it/s]\n"
     ]
    },
    {
     "name": "stdout",
     "output_type": "stream",
     "text": [
      "Epoch 1/10, Train Loss: 2.0641, Val Loss: 1.7104, Val Acc: 0.5683\n"
     ]
    },
    {
     "name": "stderr",
     "output_type": "stream",
     "text": [
      "Epoch 2/10: 100%|██████████| 700/700 [00:01<00:00, 582.29it/s]\n"
     ]
    },
    {
     "name": "stdout",
     "output_type": "stream",
     "text": [
      "Epoch 2/10, Train Loss: 1.4396, Val Loss: 1.1973, Val Acc: 0.7212\n"
     ]
    },
    {
     "name": "stderr",
     "output_type": "stream",
     "text": [
      "Epoch 3/10: 100%|██████████| 700/700 [00:01<00:00, 624.45it/s]\n"
     ]
    },
    {
     "name": "stdout",
     "output_type": "stream",
     "text": [
      "Epoch 3/10, Train Loss: 1.0242, Val Loss: 0.8865, Val Acc: 0.7856\n"
     ]
    },
    {
     "name": "stderr",
     "output_type": "stream",
     "text": [
      "Epoch 4/10: 100%|██████████| 700/700 [00:01<00:00, 584.97it/s]\n"
     ]
    },
    {
     "name": "stdout",
     "output_type": "stream",
     "text": [
      "Epoch 4/10, Train Loss: 0.7812, Val Loss: 0.7099, Val Acc: 0.8205\n"
     ]
    },
    {
     "name": "stderr",
     "output_type": "stream",
     "text": [
      "Epoch 5/10: 100%|██████████| 700/700 [00:01<00:00, 554.32it/s]\n"
     ]
    },
    {
     "name": "stdout",
     "output_type": "stream",
     "text": [
      "Epoch 5/10, Train Loss: 0.6437, Val Loss: 0.6069, Val Acc: 0.8423\n"
     ]
    },
    {
     "name": "stderr",
     "output_type": "stream",
     "text": [
      "Epoch 6/10: 100%|██████████| 700/700 [00:01<00:00, 560.75it/s]\n"
     ]
    },
    {
     "name": "stdout",
     "output_type": "stream",
     "text": [
      "Epoch 6/10, Train Loss: 0.5606, Val Loss: 0.5410, Val Acc: 0.8567\n"
     ]
    },
    {
     "name": "stderr",
     "output_type": "stream",
     "text": [
      "Epoch 7/10: 100%|██████████| 700/700 [00:01<00:00, 513.72it/s]\n"
     ]
    },
    {
     "name": "stdout",
     "output_type": "stream",
     "text": [
      "Epoch 7/10, Train Loss: 0.5058, Val Loss: 0.4966, Val Acc: 0.8653\n"
     ]
    },
    {
     "name": "stderr",
     "output_type": "stream",
     "text": [
      "Epoch 8/10: 100%|██████████| 700/700 [00:01<00:00, 557.37it/s]\n"
     ]
    },
    {
     "name": "stdout",
     "output_type": "stream",
     "text": [
      "Epoch 8/10, Train Loss: 0.4676, Val Loss: 0.4642, Val Acc: 0.8715\n"
     ]
    },
    {
     "name": "stderr",
     "output_type": "stream",
     "text": [
      "Epoch 9/10: 100%|██████████| 700/700 [00:01<00:00, 590.61it/s]\n"
     ]
    },
    {
     "name": "stdout",
     "output_type": "stream",
     "text": [
      "Epoch 9/10, Train Loss: 0.4393, Val Loss: 0.4406, Val Acc: 0.8764\n"
     ]
    },
    {
     "name": "stderr",
     "output_type": "stream",
     "text": [
      "Epoch 10/10: 100%|██████████| 700/700 [00:01<00:00, 646.40it/s]\n"
     ]
    },
    {
     "name": "stdout",
     "output_type": "stream",
     "text": [
      "Epoch 10/10, Train Loss: 0.4177, Val Loss: 0.4208, Val Acc: 0.8812\n",
      "Test Accuracy (Activation Swish): 0.8854\n",
      "\n",
      "Training model activation gelu\n"
     ]
    },
    {
     "name": "stderr",
     "output_type": "stream",
     "text": [
      "Epoch 1/10: 100%|██████████| 700/700 [00:01<00:00, 445.58it/s]\n"
     ]
    },
    {
     "name": "stdout",
     "output_type": "stream",
     "text": [
      "Epoch 1/10, Train Loss: 1.9499, Val Loss: 1.4738, Val Acc: 0.6520\n"
     ]
    },
    {
     "name": "stderr",
     "output_type": "stream",
     "text": [
      "Epoch 2/10: 100%|██████████| 700/700 [00:01<00:00, 412.74it/s]\n"
     ]
    },
    {
     "name": "stdout",
     "output_type": "stream",
     "text": [
      "Epoch 2/10, Train Loss: 1.1937, Val Loss: 0.9720, Val Acc: 0.7817\n"
     ]
    },
    {
     "name": "stderr",
     "output_type": "stream",
     "text": [
      "Epoch 3/10: 100%|██████████| 700/700 [00:01<00:00, 409.99it/s]\n"
     ]
    },
    {
     "name": "stdout",
     "output_type": "stream",
     "text": [
      "Epoch 3/10, Train Loss: 0.8304, Val Loss: 0.7302, Val Acc: 0.8264\n"
     ]
    },
    {
     "name": "stderr",
     "output_type": "stream",
     "text": [
      "Epoch 4/10: 100%|██████████| 700/700 [00:01<00:00, 408.33it/s]\n"
     ]
    },
    {
     "name": "stdout",
     "output_type": "stream",
     "text": [
      "Epoch 4/10, Train Loss: 0.6545, Val Loss: 0.6076, Val Acc: 0.8442\n"
     ]
    },
    {
     "name": "stderr",
     "output_type": "stream",
     "text": [
      "Epoch 5/10: 100%|██████████| 700/700 [00:01<00:00, 455.84it/s]\n"
     ]
    },
    {
     "name": "stdout",
     "output_type": "stream",
     "text": [
      "Epoch 5/10, Train Loss: 0.5596, Val Loss: 0.5363, Val Acc: 0.8577\n"
     ]
    },
    {
     "name": "stderr",
     "output_type": "stream",
     "text": [
      "Epoch 6/10: 100%|██████████| 700/700 [00:01<00:00, 437.49it/s]\n"
     ]
    },
    {
     "name": "stdout",
     "output_type": "stream",
     "text": [
      "Epoch 6/10, Train Loss: 0.5014, Val Loss: 0.4892, Val Acc: 0.8679\n"
     ]
    },
    {
     "name": "stderr",
     "output_type": "stream",
     "text": [
      "Epoch 7/10: 100%|██████████| 700/700 [00:01<00:00, 422.33it/s]\n"
     ]
    },
    {
     "name": "stdout",
     "output_type": "stream",
     "text": [
      "Epoch 7/10, Train Loss: 0.4617, Val Loss: 0.4575, Val Acc: 0.8726\n"
     ]
    },
    {
     "name": "stderr",
     "output_type": "stream",
     "text": [
      "Epoch 8/10: 100%|██████████| 700/700 [00:01<00:00, 424.08it/s]\n"
     ]
    },
    {
     "name": "stdout",
     "output_type": "stream",
     "text": [
      "Epoch 8/10, Train Loss: 0.4333, Val Loss: 0.4326, Val Acc: 0.8789\n"
     ]
    },
    {
     "name": "stderr",
     "output_type": "stream",
     "text": [
      "Epoch 9/10: 100%|██████████| 700/700 [00:01<00:00, 464.99it/s]\n"
     ]
    },
    {
     "name": "stdout",
     "output_type": "stream",
     "text": [
      "Epoch 9/10, Train Loss: 0.4117, Val Loss: 0.4138, Val Acc: 0.8826\n"
     ]
    },
    {
     "name": "stderr",
     "output_type": "stream",
     "text": [
      "Epoch 10/10: 100%|██████████| 700/700 [00:01<00:00, 423.66it/s]\n"
     ]
    },
    {
     "name": "stdout",
     "output_type": "stream",
     "text": [
      "Epoch 10/10, Train Loss: 0.3944, Val Loss: 0.3997, Val Acc: 0.8862\n",
      "Test Accuracy (Activation GELU): 0.8874\n",
      "\n"
     ]
    },
    {
     "data": {
      "image/png": "[encoded data removed]",
      "text/plain": [
       "<Figure size 1200x600 with 1 Axes>"
      ]
     },
     "metadata": {},
     "output_type": "display_data"
    },
    {
     "data": {
      "image/png": "[encoded data removed]",
      "text/plain": [
       "<Figure size 1200x600 with 2 Axes>"
      ]
     },
     "metadata": {},
     "output_type": "display_data"
    }
   ],
   "source": [
    "print(\"Training model activation linear\")\n",
    "model_activation_linear = NeuralNetwork(\n",
    "    layer_sizes=[784, 128, 64, 10],\n",
    "    activation_names=[None, \"linear\", \"relu\", \"softmax\"],\n",
    "    loss_function=CategoricalCrossEntropy(),\n",
    "    weight_initializer=HeInitializer(),\n",
    ")\n",
    "history_activation_linear = model_activation_linear.train(\n",
    "    X_train=X_train,\n",
    "    y_train=y_train_cat,\n",
    "    X_val=X_val,\n",
    "    y_val=y_val_cat,\n",
    "    batch_size=64,\n",
    "    learning_rate=0.01,\n",
    "    epochs=10,\n",
    "    momentum=0.9,\n",
    "    verbose=1,\n",
    "    early_stopping_patience=3,\n",
    ")\n",
    "pred_activation_linear = model_activation_linear.forward(X_test)\n",
    "pred_classes_activation_linear = np.argmax(pred_activation_linear, axis=1)\n",
    "accuracy_activation_linear = np.mean(pred_classes_activation_linear == y_test)\n",
    "print(f\"Test Accuracy (Activation Linear): {accuracy_activation_linear:.4f}\\n\")\n",
    "\n",
    "print(\"Training model activation relu\")\n",
    "model_activation_relu = NeuralNetwork(\n",
    "    layer_sizes=[784, 128, 64, 10],\n",
    "    activation_names=[None, \"relu\", \"relu\", \"softmax\"],\n",
    "    loss_function=CategoricalCrossEntropy(),\n",
    "    weight_initializer=HeInitializer(),\n",
    ")\n",
    "history_activation_relu = model_activation_relu.train(\n",
    "    X_train=X_train,\n",
    "    y_train=y_train_cat,\n",
    "    X_val=X_val,\n",
    "    y_val=y_val_cat,\n",
    "    batch_size=64,\n",
    "    learning_rate=0.01,\n",
    "    epochs=10,\n",
    "    momentum=0.9,\n",
    "    verbose=1,\n",
    "    early_stopping_patience=3,\n",
    ")\n",
    "pred_activation_relu = model_activation_relu.forward(X_test)\n",
    "pred_classes_activation_relu = np.argmax(pred_activation_relu, axis=1)\n",
    "accuracy_activation_relu = np.mean(pred_classes_activation_relu == y_test)\n",
    "print(f\"Test Accuracy (Activation ReLU): {accuracy_activation_relu:.4f}\\n\")\n",
    "\n",
    "print(\"Training model activation sigmoid\")\n",
    "model_activation_sigmoid = NeuralNetwork(\n",
    "    layer_sizes=[784, 128, 64, 10],\n",
    "    activation_names=[None, \"sigmoid\", \"relu\", \"softmax\"],\n",
    "    loss_function=CategoricalCrossEntropy(),\n",
    "    weight_initializer=HeInitializer(),\n",
    ")\n",
    "history_activation_sigmoid = model_activation_sigmoid.train(\n",
    "    X_train=X_train,\n",
    "    y_train=y_train_cat,\n",
    "    X_val=X_val,\n",
    "    y_val=y_val_cat,\n",
    "    batch_size=64,\n",
    "    learning_rate=0.01,\n",
    "    epochs=10,\n",
    "    momentum=0.9,\n",
    "    verbose=1,\n",
    "    early_stopping_patience=3,\n",
    ")\n",
    "pred_activation_sigmoid = model_activation_sigmoid.forward(X_test)\n",
    "pred_classes_activation_sigmoid = np.argmax(pred_activation_sigmoid, axis=1)\n",
    "accuracy_activation_sigmoid = np.mean(pred_classes_activation_sigmoid == y_test)\n",
    "print(f\"Test Accuracy (Activation Sigmoid): {accuracy_activation_sigmoid:.4f}\\n\")\n",
    "\n",
    "print(\"Training model activation tanh\")\n",
    "model_activation_tanh = NeuralNetwork(\n",
    "    layer_sizes=[784, 128, 64, 10],\n",
    "    activation_names=[None, \"tanh\", \"relu\", \"softmax\"],\n",
    "    loss_function=CategoricalCrossEntropy(),\n",
    "    weight_initializer=HeInitializer(),\n",
    ")\n",
    "history_activation_tanh = model_activation_tanh.train(\n",
    "    X_train=X_train,\n",
    "    y_train=y_train_cat,\n",
    "    X_val=X_val,\n",
    "    y_val=y_val_cat,\n",
    "    batch_size=64,\n",
    "    learning_rate=0.01,\n",
    "    epochs=10,\n",
    "    momentum=0.9,\n",
    "    verbose=1,\n",
    "    early_stopping_patience=3,\n",
    ")\n",
    "pred_activation_tanh = model_activation_tanh.forward(X_test)\n",
    "pred_classes_activation_tanh = np.argmax(pred_activation_tanh, axis=1)\n",
    "accuracy_activation_tanh = np.mean(pred_classes_activation_tanh == y_test)\n",
    "print(f\"Test Accuracy (Activation Tanh): {accuracy_activation_tanh:.4f}\\n\")\n",
    "\n",
    "print(\"Training model activation swish\")\n",
    "model_activation_swish = NeuralNetwork(\n",
    "    layer_sizes=[784, 128, 64, 10],\n",
    "    activation_names=[None, \"swish\", \"relu\", \"softmax\"],\n",
    "    loss_function=CategoricalCrossEntropy(),\n",
    "    weight_initializer=HeInitializer(),\n",
    ")\n",
    "history_activation_swish = model_activation_swish.train(\n",
    "    X_train=X_train,\n",
    "    y_train=y_train_cat,\n",
    "    X_val=X_val,\n",
    "    y_val=y_val_cat,\n",
    "    batch_size=64,\n",
    "    learning_rate=0.01,\n",
    "    epochs=10,\n",
    "    momentum=0.9,\n",
    "    verbose=1,\n",
    "    early_stopping_patience=3,\n",
    ")\n",
    "pred_activation_swish = model_activation_swish.forward(X_test)\n",
    "pred_classes_activation_swish = np.argmax(pred_activation_swish, axis=1)\n",
    "accuracy_activation_swish = np.mean(pred_classes_activation_swish == y_test)\n",
    "print(f\"Test Accuracy (Activation Swish): {accuracy_activation_swish:.4f}\\n\")\n",
    "\n",
    "print(\"Training model activation gelu\")\n",
    "model_activation_gelu = NeuralNetwork(\n",
    "    layer_sizes=[784, 128, 64, 10],\n",
    "    activation_names=[None, \"gelu\", \"relu\", \"softmax\"],\n",
    "    loss_function=CategoricalCrossEntropy(),\n",
    "    weight_initializer=HeInitializer(),\n",
    ")\n",
    "history_activation_gelu = model_activation_gelu.train(\n",
    "    X_train=X_train,\n",
    "    y_train=y_train_cat,\n",
    "    X_val=X_val,\n",
    "    y_val=y_val_cat,\n",
    "    batch_size=64,\n",
    "    learning_rate=0.01,\n",
    "    epochs=10,\n",
    "    momentum=0.9,\n",
    "    verbose=1,\n",
    "    early_stopping_patience=3,\n",
    ")\n",
    "pred_activation_gelu = model_activation_gelu.forward(X_test)\n",
    "pred_classes_activation_gelu = np.argmax(pred_activation_gelu, axis=1)\n",
    "accuracy_activation_gelu = np.mean(pred_classes_activation_gelu == y_test)\n",
    "print(f\"Test Accuracy (Activation GELU): {accuracy_activation_gelu:.4f}\\n\")\n",
    "\n",
    "# grafik perbandingan loss\n",
    "plt.figure(figsize=(12, 6))\n",
    "plt.plot(\n",
    "    history_activation_linear[\"train_loss\"], label=\"Train Loss (Activation Linear)\"\n",
    ")\n",
    "plt.plot(\n",
    "    history_activation_relu[\"train_loss\"], label=\"Train Loss (Activation ReLU)\"\n",
    ")\n",
    "plt.plot(\n",
    "    history_activation_sigmoid[\"train_loss\"],\n",
    "    label=\"Train Loss (Activation Sigmoid)\",\n",
    ")\n",
    "plt.plot(\n",
    "    history_activation_tanh[\"train_loss\"], label=\"Train Loss (Activation Tanh)\"\n",
    ")\n",
    "plt.plot(\n",
    "    history_activation_swish[\"train_loss\"], label=\"Train Loss (Activation Swish)\"\n",
    ")\n",
    "plt.plot(\n",
    "    history_activation_gelu[\"train_loss\"], label=\"Train Loss (Activation GELU)\"\n",
    ")\n",
    "plt.title(\"Perbandingan Training Loss\")\n",
    "plt.xlabel(\"Epochs\")\n",
    "plt.ylabel(\"Loss\")\n",
    "plt.legend()\n",
    "plt.grid()\n",
    "plt.show()\n",
    "\n",
    "# grafik distribusi bobot dan gradien bobot\n",
    "plt.figure(figsize=(12, 6))\n",
    "plt.subplot(1, 2, 1)\n",
    "plt.title(\"Weight Distribution\")\n",
    "\n",
    "plt.hist(\n",
    "    model_activation_linear.layers[1].parameters['weights'].flatten(), \n",
    "    bins=50, alpha=0.5, label=\"Linear\"\n",
    ")\n",
    "plt.hist(\n",
    "    model_activation_relu.layers[1].parameters['weights'].flatten(), \n",
    "    bins=50, alpha=0.5, label=\"ReLU\"\n",
    ")\n",
    "plt.hist(\n",
    "    model_activation_sigmoid.layers[1].parameters['weights'].flatten(), \n",
    "    bins=50, alpha=0.5, label=\"Sigmoid\"\n",
    ")\n",
    "plt.hist(\n",
    "    model_activation_tanh.layers[1].parameters['weights'].flatten(), \n",
    "    bins=50, alpha=0.5, label=\"Tanh\"\n",
    ")\n",
    "plt.hist(\n",
    "    model_activation_swish.layers[1].parameters['weights'].flatten(), \n",
    "    bins=50, alpha=0.5, label=\"Swish\"\n",
    ")\n",
    "plt.hist(\n",
    "    model_activation_gelu.layers[1].parameters['weights'].flatten(), \n",
    "    bins=50, alpha=0.5, label=\"GELU\"\n",
    ")\n",
    "plt.xlabel(\"Weight Value\")\n",
    "plt.ylabel(\"Frequency\")\n",
    "plt.legend()\n",
    "plt.grid()\n",
    "\n",
    "plt.subplot(1, 2, 2)\n",
    "plt.title(\"Gradient Distribution\")\n",
    "\n",
    "plt.hist(\n",
    "    model_activation_linear.layers[1].gradients['weights'].flatten(),\n",
    "    bins=50, alpha=0.5, label=\"Linear\",\n",
    ")\n",
    "plt.hist(\n",
    "    model_activation_relu.layers[1].gradients['weights'].flatten(),\n",
    "    bins=50, alpha=0.5, label=\"ReLU\",\n",
    ")\n",
    "plt.hist(\n",
    "    model_activation_sigmoid.layers[1].gradients['weights'].flatten(),\n",
    "    bins=50, alpha=0.5, label=\"Sigmoid\",\n",
    ")\n",
    "plt.hist(\n",
    "    model_activation_tanh.layers[1].gradients['weights'].flatten(),\n",
    "    bins=50, alpha=0.5, label=\"Tanh\",\n",
    ")\n",
    "plt.hist(\n",
    "    model_activation_swish.layers[1].gradients['weights'].flatten(),\n",
    "    bins=50, alpha=0.5, label=\"Swish\",\n",
    ")\n",
    "plt.hist(\n",
    "    model_activation_gelu.layers[1].gradients['weights'].flatten(),\n",
    "    bins=50, alpha=0.5, label=\"GELU\",\n",
    ")\n",
    "plt.xlabel(\"Gradient Value\")\n",
    "plt.ylabel(\"Frequency\")\n",
    "plt.legend()\n",
    "plt.grid()\n",
    "plt.tight_layout()\n",
    "plt.show()\n",
    "\n"
   ]
  },
  {
   "cell_type": "markdown",
   "metadata": {},
   "source": [
    "### Pengaruh Learning Rate"
   ]
  },
  {
   "cell_type": "code",
   "execution_count": null,
   "metadata": {},
   "outputs": [
    {
     "name": "stdout",
     "output_type": "stream",
     "text": [
      "Training model with learning rate: 0.001\n"
     ]
    },
    {
     "name": "stderr",
     "output_type": "stream",
     "text": [
      "Epoch 1/10: 100%|██████████| 700/700 [00:02<00:00, 310.01it/s]\n"
     ]
    },
    {
     "name": "stdout",
     "output_type": "stream",
     "text": [
      "Epoch 1/10, Train Loss: 2.5113, Val Loss: 2.1698, Val Acc: 0.2030\n"
     ]
    },
    {
     "name": "stderr",
     "output_type": "stream",
     "text": [
      "Epoch 2/10: 100%|██████████| 700/700 [00:01<00:00, 388.63it/s]\n"
     ]
    },
    {
     "name": "stdout",
     "output_type": "stream",
     "text": [
      "Epoch 2/10, Train Loss: 2.0823, Val Loss: 1.9975, Val Acc: 0.3592\n"
     ]
    },
    {
     "name": "stderr",
     "output_type": "stream",
     "text": [
      "Epoch 3/10: 100%|██████████| 700/700 [00:01<00:00, 496.57it/s]\n"
     ]
    },
    {
     "name": "stdout",
     "output_type": "stream",
     "text": [
      "Epoch 3/10, Train Loss: 1.9210, Val Loss: 1.8449, Val Acc: 0.4737\n"
     ]
    },
    {
     "name": "stderr",
     "output_type": "stream",
     "text": [
      "Epoch 4/10: 100%|██████████| 700/700 [00:01<00:00, 516.97it/s]\n"
     ]
    },
    {
     "name": "stdout",
     "output_type": "stream",
     "text": [
      "Epoch 4/10, Train Loss: 1.7764, Val Loss: 1.7080, Val Acc: 0.5410\n"
     ]
    },
    {
     "name": "stderr",
     "output_type": "stream",
     "text": [
      "Epoch 5/10: 100%|██████████| 700/700 [00:01<00:00, 508.07it/s]\n"
     ]
    },
    {
     "name": "stdout",
     "output_type": "stream",
     "text": [
      "Epoch 5/10, Train Loss: 1.6464, Val Loss: 1.5852, Val Acc: 0.5938\n"
     ]
    },
    {
     "name": "stderr",
     "output_type": "stream",
     "text": [
      "Epoch 6/10: 100%|██████████| 700/700 [00:01<00:00, 513.92it/s]\n"
     ]
    },
    {
     "name": "stdout",
     "output_type": "stream",
     "text": [
      "Epoch 6/10, Train Loss: 1.5304, Val Loss: 1.4757, Val Acc: 0.6354\n"
     ]
    },
    {
     "name": "stderr",
     "output_type": "stream",
     "text": [
      "Epoch 7/10: 100%|██████████| 700/700 [00:01<00:00, 459.96it/s]\n"
     ]
    },
    {
     "name": "stdout",
     "output_type": "stream",
     "text": [
      "Epoch 7/10, Train Loss: 1.4272, Val Loss: 1.3795, Val Acc: 0.6620\n"
     ]
    },
    {
     "name": "stderr",
     "output_type": "stream",
     "text": [
      "Epoch 8/10: 100%|██████████| 700/700 [00:01<00:00, 505.97it/s]\n"
     ]
    },
    {
     "name": "stdout",
     "output_type": "stream",
     "text": [
      "Epoch 8/10, Train Loss: 1.3359, Val Loss: 1.2936, Val Acc: 0.6876\n"
     ]
    },
    {
     "name": "stderr",
     "output_type": "stream",
     "text": [
      "Epoch 9/10: 100%|██████████| 700/700 [00:01<00:00, 476.79it/s]\n"
     ]
    },
    {
     "name": "stdout",
     "output_type": "stream",
     "text": [
      "Epoch 9/10, Train Loss: 1.2548, Val Loss: 1.2180, Val Acc: 0.7062\n"
     ]
    },
    {
     "name": "stderr",
     "output_type": "stream",
     "text": [
      "Epoch 10/10: 100%|██████████| 700/700 [00:01<00:00, 481.67it/s]\n"
     ]
    },
    {
     "name": "stdout",
     "output_type": "stream",
     "text": [
      "Epoch 10/10, Train Loss: 1.1831, Val Loss: 1.1509, Val Acc: 0.7224\n",
      "Test Accuracy (Learning Rate 0.001): 0.7326\n",
      "\n",
      "Training model with learning rate: 0.01\n"
     ]
    },
    {
     "name": "stderr",
     "output_type": "stream",
     "text": [
      "Epoch 1/10: 100%|██████████| 700/700 [00:01<00:00, 527.50it/s]\n"
     ]
    },
    {
     "name": "stdout",
     "output_type": "stream",
     "text": [
      "Epoch 1/10, Train Loss: 1.8685, Val Loss: 1.3676, Val Acc: 0.6982\n"
     ]
    },
    {
     "name": "stderr",
     "output_type": "stream",
     "text": [
      "Epoch 2/10: 100%|██████████| 700/700 [00:01<00:00, 486.91it/s]\n"
     ]
    },
    {
     "name": "stdout",
     "output_type": "stream",
     "text": [
      "Epoch 2/10, Train Loss: 1.0933, Val Loss: 0.8968, Val Acc: 0.7909\n"
     ]
    },
    {
     "name": "stderr",
     "output_type": "stream",
     "text": [
      "Epoch 3/10: 100%|██████████| 700/700 [00:01<00:00, 491.05it/s]\n"
     ]
    },
    {
     "name": "stdout",
     "output_type": "stream",
     "text": [
      "Epoch 3/10, Train Loss: 0.7738, Val Loss: 0.6939, Val Acc: 0.8254\n"
     ]
    },
    {
     "name": "stderr",
     "output_type": "stream",
     "text": [
      "Epoch 4/10: 100%|██████████| 700/700 [00:01<00:00, 508.84it/s]\n"
     ]
    },
    {
     "name": "stdout",
     "output_type": "stream",
     "text": [
      "Epoch 4/10, Train Loss: 0.6264, Val Loss: 0.5895, Val Acc: 0.8440\n"
     ]
    },
    {
     "name": "stderr",
     "output_type": "stream",
     "text": [
      "Epoch 5/10: 100%|██████████| 700/700 [00:01<00:00, 462.82it/s]\n"
     ]
    },
    {
     "name": "stdout",
     "output_type": "stream",
     "text": [
      "Epoch 5/10, Train Loss: 0.5444, Val Loss: 0.5276, Val Acc: 0.8569\n"
     ]
    },
    {
     "name": "stderr",
     "output_type": "stream",
     "text": [
      "Epoch 6/10: 100%|██████████| 700/700 [00:01<00:00, 503.55it/s]\n"
     ]
    },
    {
     "name": "stdout",
     "output_type": "stream",
     "text": [
      "Epoch 6/10, Train Loss: 0.4925, Val Loss: 0.4848, Val Acc: 0.8663\n"
     ]
    },
    {
     "name": "stderr",
     "output_type": "stream",
     "text": [
      "Epoch 7/10: 100%|██████████| 700/700 [00:01<00:00, 509.42it/s]\n"
     ]
    },
    {
     "name": "stdout",
     "output_type": "stream",
     "text": [
      "Epoch 7/10, Train Loss: 0.4564, Val Loss: 0.4546, Val Acc: 0.8739\n"
     ]
    },
    {
     "name": "stderr",
     "output_type": "stream",
     "text": [
      "Epoch 8/10: 100%|██████████| 700/700 [00:01<00:00, 469.79it/s]\n"
     ]
    },
    {
     "name": "stdout",
     "output_type": "stream",
     "text": [
      "Epoch 8/10, Train Loss: 0.4298, Val Loss: 0.4323, Val Acc: 0.8757\n"
     ]
    },
    {
     "name": "stderr",
     "output_type": "stream",
     "text": [
      "Epoch 9/10: 100%|██████████| 700/700 [00:01<00:00, 520.32it/s]\n"
     ]
    },
    {
     "name": "stdout",
     "output_type": "stream",
     "text": [
      "Epoch 9/10, Train Loss: 0.4094, Val Loss: 0.4146, Val Acc: 0.8815\n"
     ]
    },
    {
     "name": "stderr",
     "output_type": "stream",
     "text": [
      "Epoch 10/10: 100%|██████████| 700/700 [00:01<00:00, 506.86it/s]\n"
     ]
    },
    {
     "name": "stdout",
     "output_type": "stream",
     "text": [
      "Epoch 10/10, Train Loss: 0.3933, Val Loss: 0.4001, Val Acc: 0.8835\n",
      "Test Accuracy (Learning Rate 0.01): 0.8886\n",
      "\n",
      "Training model with learning rate: 0.1\n"
     ]
    },
    {
     "name": "stderr",
     "output_type": "stream",
     "text": [
      "Epoch 1/10: 100%|██████████| 700/700 [00:01<00:00, 511.50it/s]\n"
     ]
    },
    {
     "name": "stdout",
     "output_type": "stream",
     "text": [
      "Epoch 1/10, Train Loss: 0.7410, Val Loss: 0.4144, Val Acc: 0.8795\n"
     ]
    },
    {
     "name": "stderr",
     "output_type": "stream",
     "text": [
      "Epoch 2/10: 100%|██████████| 700/700 [00:01<00:00, 499.09it/s]\n"
     ]
    },
    {
     "name": "stdout",
     "output_type": "stream",
     "text": [
      "Epoch 2/10, Train Loss: 0.3543, Val Loss: 0.3376, Val Acc: 0.9012\n"
     ]
    },
    {
     "name": "stderr",
     "output_type": "stream",
     "text": [
      "Epoch 3/10: 100%|██████████| 700/700 [00:01<00:00, 488.68it/s]\n"
     ]
    },
    {
     "name": "stdout",
     "output_type": "stream",
     "text": [
      "Epoch 3/10, Train Loss: 0.3091, Val Loss: 0.3103, Val Acc: 0.9074\n"
     ]
    },
    {
     "name": "stderr",
     "output_type": "stream",
     "text": [
      "Epoch 4/10: 100%|██████████| 700/700 [00:01<00:00, 503.48it/s]\n"
     ]
    },
    {
     "name": "stdout",
     "output_type": "stream",
     "text": [
      "Epoch 4/10, Train Loss: 0.2833, Val Loss: 0.2880, Val Acc: 0.9184\n"
     ]
    },
    {
     "name": "stderr",
     "output_type": "stream",
     "text": [
      "Epoch 5/10: 100%|██████████| 700/700 [00:01<00:00, 527.04it/s]\n"
     ]
    },
    {
     "name": "stdout",
     "output_type": "stream",
     "text": [
      "Epoch 5/10, Train Loss: 0.2634, Val Loss: 0.2715, Val Acc: 0.9204\n"
     ]
    },
    {
     "name": "stderr",
     "output_type": "stream",
     "text": [
      "Epoch 6/10: 100%|██████████| 700/700 [00:01<00:00, 487.19it/s]\n"
     ]
    },
    {
     "name": "stdout",
     "output_type": "stream",
     "text": [
      "Epoch 6/10, Train Loss: 0.2459, Val Loss: 0.2562, Val Acc: 0.9246\n"
     ]
    },
    {
     "name": "stderr",
     "output_type": "stream",
     "text": [
      "Epoch 7/10: 100%|██████████| 700/700 [00:01<00:00, 504.78it/s]\n"
     ]
    },
    {
     "name": "stdout",
     "output_type": "stream",
     "text": [
      "Epoch 7/10, Train Loss: 0.2301, Val Loss: 0.2464, Val Acc: 0.9275\n"
     ]
    },
    {
     "name": "stderr",
     "output_type": "stream",
     "text": [
      "Epoch 8/10: 100%|██████████| 700/700 [00:01<00:00, 500.00it/s]\n"
     ]
    },
    {
     "name": "stdout",
     "output_type": "stream",
     "text": [
      "Epoch 8/10, Train Loss: 0.2154, Val Loss: 0.2257, Val Acc: 0.9327\n"
     ]
    },
    {
     "name": "stderr",
     "output_type": "stream",
     "text": [
      "Epoch 9/10: 100%|██████████| 700/700 [00:01<00:00, 500.89it/s]\n"
     ]
    },
    {
     "name": "stdout",
     "output_type": "stream",
     "text": [
      "Epoch 9/10, Train Loss: 0.2020, Val Loss: 0.2189, Val Acc: 0.9365\n"
     ]
    },
    {
     "name": "stderr",
     "output_type": "stream",
     "text": [
      "Epoch 10/10: 100%|██████████| 700/700 [00:01<00:00, 507.30it/s]\n"
     ]
    },
    {
     "name": "stdout",
     "output_type": "stream",
     "text": [
      "Epoch 10/10, Train Loss: 0.1900, Val Loss: 0.2060, Val Acc: 0.9395\n",
      "Test Accuracy (Learning Rate 0.1): 0.9416\n",
      "\n"
     ]
    },
    {
     "data": {
      "image/png": "[encoded data removed]",
      "text/plain": [
       "<Figure size 1200x600 with 1 Axes>"
      ]
     },
     "metadata": {},
     "output_type": "display_data"
    },
    {
     "data": {
      "image/png": "[encoded data removed]",
      "text/plain": [
       "<Figure size 1200x600 with 2 Axes>"
      ]
     },
     "metadata": {},
     "output_type": "display_data"
    }
   ],
   "source": [
    "# Variasi learning rate\n",
    "learning_rates = [0.001, 0.01, 0.1]\n",
    "results = {}\n",
    "histories = {}\n",
    "\n",
    "for lr in learning_rates:\n",
    "    print(f\"Training model with learning rate: {lr}\")\n",
    "    model_lr = NeuralNetwork(\n",
    "        layer_sizes=[784, 128, 64, 10],\n",
    "        activation_names=[None, \"swish\", \"gelu\", \"softmax\"],\n",
    "        loss_function=CategoricalCrossEntropy(),\n",
    "        weight_initializer=HeInitializer(),\n",
    "    )\n",
    "    history_lr = model_lr.train(\n",
    "        X_train=X_train,\n",
    "        y_train=y_train_cat,\n",
    "        X_val=X_val,\n",
    "        y_val=y_val_cat,\n",
    "        batch_size=64,\n",
    "        learning_rate=lr,\n",
    "        epochs=10,\n",
    "        momentum=0.9,\n",
    "        verbose=1,\n",
    "        early_stopping_patience=3,\n",
    "    )\n",
    "    histories[lr] = history_lr\n",
    "    pred_lr = model_lr.forward(X_test)\n",
    "    pred_classes_lr = np.argmax(pred_lr, axis=1)\n",
    "    accuracy_lr = np.mean(pred_classes_lr == y_test)\n",
    "    results[lr] = accuracy_lr\n",
    "    print(f\"Test Accuracy (Learning Rate {lr}): {accuracy_lr:.4f}\\n\")\n",
    "\n",
    "# grafik perbandingan loss\n",
    "plt.figure(figsize=(12, 6))\n",
    "plt.plot(\n",
    "    histories[0.001][\"train_loss\"], label=\"Train Loss (LR 0.001)\"\n",
    ")\n",
    "plt.plot(\n",
    "    histories[0.01][\"train_loss\"], label=\"Train Loss (LR 0.01)\"\n",
    ")\n",
    "plt.plot(\n",
    "    histories[0.1][\"train_loss\"], label=\"Train Loss (LR 0.1)\"\n",
    ")\n",
    "plt.title(\"Perbandingan Training Loss\")\n",
    "plt.xlabel(\"Epochs\")\n",
    "plt.ylabel(\"Loss\")\n",
    "plt.legend()\n",
    "plt.grid()\n",
    "plt.show()\n",
    "\n",
    "# grafik distribusi bobot dan gradien bobot\n",
    "plt.figure(figsize=(12, 6))\n",
    "plt.subplot(1, 2, 1)\n",
    "plt.title(\"Weight Distribution\")\n",
    "plt.hist(\n",
    "    model_lr.layers[1].parameters['weights'].flatten(), \n",
    "    bins=50, alpha=0.5, label=\"LR 0.001\"\n",
    ")\n",
    "plt.hist(\n",
    "    model_lr.layers[1].parameters['weights'].flatten(), \n",
    "    bins=50, alpha=0.5, label=\"LR 0.01\"\n",
    ")\n",
    "plt.hist(\n",
    "    model_lr.layers[1].parameters['weights'].flatten(), \n",
    "    bins=50, alpha=0.5, label=\"LR 0.1\"\n",
    ")\n",
    "plt.xlabel(\"Weight Value\")\n",
    "plt.ylabel(\"Frequency\")\n",
    "plt.legend()\n",
    "plt.grid()\n",
    "\n",
    "plt.subplot(1, 2, 2)\n",
    "plt.title(\"Gradient Distribution\")\n",
    "plt.hist(\n",
    "    model_lr.layers[1].gradients['weights'].flatten(),\n",
    "    bins=50, alpha=0.5, label=\"LR 0.001\",\n",
    ")\n",
    "plt.hist(\n",
    "    model_lr.layers[1].gradients['weights'].flatten(),\n",
    "    bins=50, alpha=0.5, label=\"LR 0.01\",\n",
    ")\n",
    "plt.hist(\n",
    "    model_lr.layers[1].gradients['weights'].flatten(),\n",
    "    bins=50, alpha=0.5, label=\"LR 0.1\",\n",
    ")\n",
    "plt.xlabel(\"Gradient Value\")\n",
    "plt.ylabel(\"Frequency\")\n",
    "plt.legend()\n",
    "plt.grid()\n",
    "plt.tight_layout()\n",
    "plt.show()"
   ]
  },
  {
   "cell_type": "markdown",
   "metadata": {},
   "source": [
    "### Pengaruh Inisialisasi Bobot"
   ]
  },
  {
   "cell_type": "code",
   "execution_count": null,
   "metadata": {},
   "outputs": [
    {
     "name": "stdout",
     "output_type": "stream",
     "text": [
      "Training model with Zero initializer\n"
     ]
    },
    {
     "name": "stderr",
     "output_type": "stream",
     "text": [
      "Epoch 1/10: 100%|██████████| 700/700 [00:02<00:00, 345.36it/s]\n"
     ]
    },
    {
     "name": "stdout",
     "output_type": "stream",
     "text": [
      "Epoch 1/10, Train Loss: 2.3025, Val Loss: 2.3023, Val Acc: 0.1138\n"
     ]
    },
    {
     "name": "stderr",
     "output_type": "stream",
     "text": [
      "Epoch 2/10: 100%|██████████| 700/700 [00:01<00:00, 367.12it/s]\n"
     ]
    },
    {
     "name": "stdout",
     "output_type": "stream",
     "text": [
      "Epoch 2/10, Train Loss: 2.3022, Val Loss: 2.3021, Val Acc: 0.1138\n"
     ]
    },
    {
     "name": "stderr",
     "output_type": "stream",
     "text": [
      "Epoch 3/10: 100%|██████████| 700/700 [00:01<00:00, 524.81it/s]\n"
     ]
    },
    {
     "name": "stdout",
     "output_type": "stream",
     "text": [
      "Epoch 3/10, Train Loss: 2.3020, Val Loss: 2.3020, Val Acc: 0.1138\n"
     ]
    },
    {
     "name": "stderr",
     "output_type": "stream",
     "text": [
      "Epoch 4/10: 100%|██████████| 700/700 [00:01<00:00, 459.53it/s]\n"
     ]
    },
    {
     "name": "stdout",
     "output_type": "stream",
     "text": [
      "Epoch 4/10, Train Loss: 2.3019, Val Loss: 2.3018, Val Acc: 0.1138\n"
     ]
    },
    {
     "name": "stderr",
     "output_type": "stream",
     "text": [
      "Epoch 5/10: 100%|██████████| 700/700 [00:01<00:00, 500.71it/s]\n"
     ]
    },
    {
     "name": "stdout",
     "output_type": "stream",
     "text": [
      "Epoch 5/10, Train Loss: 2.3017, Val Loss: 2.3017, Val Acc: 0.1138\n"
     ]
    },
    {
     "name": "stderr",
     "output_type": "stream",
     "text": [
      "Epoch 6/10: 100%|██████████| 700/700 [00:01<00:00, 444.32it/s]\n"
     ]
    },
    {
     "name": "stdout",
     "output_type": "stream",
     "text": [
      "Epoch 6/10, Train Loss: 2.3016, Val Loss: 2.3016, Val Acc: 0.1138\n"
     ]
    },
    {
     "name": "stderr",
     "output_type": "stream",
     "text": [
      "Epoch 7/10: 100%|██████████| 700/700 [00:01<00:00, 491.21it/s]\n"
     ]
    },
    {
     "name": "stdout",
     "output_type": "stream",
     "text": [
      "Epoch 7/10, Train Loss: 2.3015, Val Loss: 2.3016, Val Acc: 0.1138\n"
     ]
    },
    {
     "name": "stderr",
     "output_type": "stream",
     "text": [
      "Epoch 8/10: 100%|██████████| 700/700 [00:01<00:00, 497.31it/s]\n"
     ]
    },
    {
     "name": "stdout",
     "output_type": "stream",
     "text": [
      "Epoch 8/10, Train Loss: 2.3015, Val Loss: 2.3015, Val Acc: 0.1138\n"
     ]
    },
    {
     "name": "stderr",
     "output_type": "stream",
     "text": [
      "Epoch 9/10: 100%|██████████| 700/700 [00:01<00:00, 494.63it/s]\n"
     ]
    },
    {
     "name": "stdout",
     "output_type": "stream",
     "text": [
      "Epoch 9/10, Train Loss: 2.3014, Val Loss: 2.3015, Val Acc: 0.1138\n"
     ]
    },
    {
     "name": "stderr",
     "output_type": "stream",
     "text": [
      "Epoch 10/10: 100%|██████████| 700/700 [00:01<00:00, 507.25it/s]\n"
     ]
    },
    {
     "name": "stdout",
     "output_type": "stream",
     "text": [
      "Epoch 10/10, Train Loss: 2.3014, Val Loss: 2.3015, Val Acc: 0.1138\n",
      "Test Accuracy (Zero Initializer): 0.1143\n",
      "\n",
      "Training model with Uniform initializer\n"
     ]
    },
    {
     "name": "stderr",
     "output_type": "stream",
     "text": [
      "Epoch 1/10: 100%|██████████| 700/700 [00:01<00:00, 462.82it/s]\n"
     ]
    },
    {
     "name": "stdout",
     "output_type": "stream",
     "text": [
      "Epoch 1/10, Train Loss: 2.2980, Val Loss: 2.2824, Val Acc: 0.2337\n"
     ]
    },
    {
     "name": "stderr",
     "output_type": "stream",
     "text": [
      "Epoch 2/10: 100%|██████████| 700/700 [00:01<00:00, 399.73it/s]\n"
     ]
    },
    {
     "name": "stdout",
     "output_type": "stream",
     "text": [
      "Epoch 2/10, Train Loss: 2.2659, Val Loss: 2.2467, Val Acc: 0.3475\n"
     ]
    },
    {
     "name": "stderr",
     "output_type": "stream",
     "text": [
      "Epoch 3/10: 100%|██████████| 700/700 [00:01<00:00, 481.66it/s]\n"
     ]
    },
    {
     "name": "stdout",
     "output_type": "stream",
     "text": [
      "Epoch 3/10, Train Loss: 2.2226, Val Loss: 2.1921, Val Acc: 0.4285\n"
     ]
    },
    {
     "name": "stderr",
     "output_type": "stream",
     "text": [
      "Epoch 4/10: 100%|██████████| 700/700 [00:01<00:00, 436.65it/s]\n"
     ]
    },
    {
     "name": "stdout",
     "output_type": "stream",
     "text": [
      "Epoch 4/10, Train Loss: 2.1477, Val Loss: 2.0900, Val Acc: 0.4573\n"
     ]
    },
    {
     "name": "stderr",
     "output_type": "stream",
     "text": [
      "Epoch 5/10: 100%|██████████| 700/700 [00:01<00:00, 467.70it/s]\n"
     ]
    },
    {
     "name": "stdout",
     "output_type": "stream",
     "text": [
      "Epoch 5/10, Train Loss: 2.0104, Val Loss: 1.9135, Val Acc: 0.5179\n"
     ]
    },
    {
     "name": "stderr",
     "output_type": "stream",
     "text": [
      "Epoch 6/10: 100%|██████████| 700/700 [00:01<00:00, 463.47it/s]\n"
     ]
    },
    {
     "name": "stdout",
     "output_type": "stream",
     "text": [
      "Epoch 6/10, Train Loss: 1.7878, Val Loss: 1.6448, Val Acc: 0.6200\n"
     ]
    },
    {
     "name": "stderr",
     "output_type": "stream",
     "text": [
      "Epoch 7/10: 100%|██████████| 700/700 [00:01<00:00, 454.02it/s]\n"
     ]
    },
    {
     "name": "stdout",
     "output_type": "stream",
     "text": [
      "Epoch 7/10, Train Loss: 1.4796, Val Loss: 1.3154, Val Acc: 0.7289\n"
     ]
    },
    {
     "name": "stderr",
     "output_type": "stream",
     "text": [
      "Epoch 8/10: 100%|██████████| 700/700 [00:01<00:00, 520.40it/s]\n"
     ]
    },
    {
     "name": "stdout",
     "output_type": "stream",
     "text": [
      "Epoch 8/10, Train Loss: 1.1619, Val Loss: 1.0333, Val Acc: 0.7697\n"
     ]
    },
    {
     "name": "stderr",
     "output_type": "stream",
     "text": [
      "Epoch 9/10: 100%|██████████| 700/700 [00:01<00:00, 485.31it/s]\n"
     ]
    },
    {
     "name": "stdout",
     "output_type": "stream",
     "text": [
      "Epoch 9/10, Train Loss: 0.9246, Val Loss: 0.8477, Val Acc: 0.7941\n"
     ]
    },
    {
     "name": "stderr",
     "output_type": "stream",
     "text": [
      "Epoch 10/10: 100%|██████████| 700/700 [00:01<00:00, 480.51it/s]\n"
     ]
    },
    {
     "name": "stdout",
     "output_type": "stream",
     "text": [
      "Epoch 10/10, Train Loss: 0.7728, Val Loss: 0.7296, Val Acc: 0.8131\n",
      "Test Accuracy (Uniform Initializer): 0.8192\n",
      "\n",
      "Training model with Normal initializer\n"
     ]
    },
    {
     "name": "stderr",
     "output_type": "stream",
     "text": [
      "Epoch 1/10: 100%|██████████| 700/700 [00:01<00:00, 454.01it/s]\n"
     ]
    },
    {
     "name": "stdout",
     "output_type": "stream",
     "text": [
      "Epoch 1/10, Train Loss: 2.1680, Val Loss: 1.9888, Val Acc: 0.4357\n"
     ]
    },
    {
     "name": "stderr",
     "output_type": "stream",
     "text": [
      "Epoch 2/10: 100%|██████████| 700/700 [00:01<00:00, 449.09it/s]\n"
     ]
    },
    {
     "name": "stdout",
     "output_type": "stream",
     "text": [
      "Epoch 2/10, Train Loss: 1.7684, Val Loss: 1.5255, Val Acc: 0.6455\n"
     ]
    },
    {
     "name": "stderr",
     "output_type": "stream",
     "text": [
      "Epoch 3/10: 100%|██████████| 700/700 [00:01<00:00, 452.22it/s]\n"
     ]
    },
    {
     "name": "stdout",
     "output_type": "stream",
     "text": [
      "Epoch 3/10, Train Loss: 1.2915, Val Loss: 1.0865, Val Acc: 0.7571\n"
     ]
    },
    {
     "name": "stderr",
     "output_type": "stream",
     "text": [
      "Epoch 4/10: 100%|██████████| 700/700 [00:01<00:00, 437.37it/s]\n"
     ]
    },
    {
     "name": "stdout",
     "output_type": "stream",
     "text": [
      "Epoch 4/10, Train Loss: 0.9395, Val Loss: 0.8294, Val Acc: 0.7996\n"
     ]
    },
    {
     "name": "stderr",
     "output_type": "stream",
     "text": [
      "Epoch 5/10: 100%|██████████| 700/700 [00:01<00:00, 479.82it/s]\n"
     ]
    },
    {
     "name": "stdout",
     "output_type": "stream",
     "text": [
      "Epoch 5/10, Train Loss: 0.7461, Val Loss: 0.6909, Val Acc: 0.8234\n"
     ]
    },
    {
     "name": "stderr",
     "output_type": "stream",
     "text": [
      "Epoch 6/10: 100%|██████████| 700/700 [00:01<00:00, 485.29it/s]\n"
     ]
    },
    {
     "name": "stdout",
     "output_type": "stream",
     "text": [
      "Epoch 6/10, Train Loss: 0.6374, Val Loss: 0.6088, Val Acc: 0.8395\n"
     ]
    },
    {
     "name": "stderr",
     "output_type": "stream",
     "text": [
      "Epoch 7/10: 100%|██████████| 700/700 [00:01<00:00, 482.39it/s]\n"
     ]
    },
    {
     "name": "stdout",
     "output_type": "stream",
     "text": [
      "Epoch 7/10, Train Loss: 0.5693, Val Loss: 0.5543, Val Acc: 0.8496\n"
     ]
    },
    {
     "name": "stderr",
     "output_type": "stream",
     "text": [
      "Epoch 8/10: 100%|██████████| 700/700 [00:01<00:00, 453.94it/s]\n"
     ]
    },
    {
     "name": "stdout",
     "output_type": "stream",
     "text": [
      "Epoch 8/10, Train Loss: 0.5226, Val Loss: 0.5162, Val Acc: 0.8548\n"
     ]
    },
    {
     "name": "stderr",
     "output_type": "stream",
     "text": [
      "Epoch 9/10: 100%|██████████| 700/700 [00:01<00:00, 434.98it/s]\n"
     ]
    },
    {
     "name": "stdout",
     "output_type": "stream",
     "text": [
      "Epoch 9/10, Train Loss: 0.4886, Val Loss: 0.4868, Val Acc: 0.8621\n"
     ]
    },
    {
     "name": "stderr",
     "output_type": "stream",
     "text": [
      "Epoch 10/10: 100%|██████████| 700/700 [00:01<00:00, 419.30it/s]\n"
     ]
    },
    {
     "name": "stdout",
     "output_type": "stream",
     "text": [
      "Epoch 10/10, Train Loss: 0.4626, Val Loss: 0.4642, Val Acc: 0.8668\n",
      "Test Accuracy (Normal Initializer): 0.8730\n",
      "\n",
      "Training model with Xavier initializer\n"
     ]
    },
    {
     "name": "stderr",
     "output_type": "stream",
     "text": [
      "Epoch 1/10: 100%|██████████| 700/700 [00:01<00:00, 488.25it/s]\n"
     ]
    },
    {
     "name": "stdout",
     "output_type": "stream",
     "text": [
      "Epoch 1/10, Train Loss: 2.1958, Val Loss: 1.9724, Val Acc: 0.4421\n"
     ]
    },
    {
     "name": "stderr",
     "output_type": "stream",
     "text": [
      "Epoch 2/10: 100%|██████████| 700/700 [00:01<00:00, 498.48it/s]\n"
     ]
    },
    {
     "name": "stdout",
     "output_type": "stream",
     "text": [
      "Epoch 2/10, Train Loss: 1.7513, Val Loss: 1.5160, Val Acc: 0.6552\n"
     ]
    },
    {
     "name": "stderr",
     "output_type": "stream",
     "text": [
      "Epoch 3/10: 100%|██████████| 700/700 [00:01<00:00, 483.96it/s]\n"
     ]
    },
    {
     "name": "stdout",
     "output_type": "stream",
     "text": [
      "Epoch 3/10, Train Loss: 1.2896, Val Loss: 1.0779, Val Acc: 0.7550\n"
     ]
    },
    {
     "name": "stderr",
     "output_type": "stream",
     "text": [
      "Epoch 4/10: 100%|██████████| 700/700 [00:01<00:00, 478.83it/s]\n"
     ]
    },
    {
     "name": "stdout",
     "output_type": "stream",
     "text": [
      "Epoch 4/10, Train Loss: 0.9236, Val Loss: 0.8038, Val Acc: 0.8046\n"
     ]
    },
    {
     "name": "stderr",
     "output_type": "stream",
     "text": [
      "Epoch 5/10: 100%|██████████| 700/700 [00:01<00:00, 518.76it/s]\n"
     ]
    },
    {
     "name": "stdout",
     "output_type": "stream",
     "text": [
      "Epoch 5/10, Train Loss: 0.7189, Val Loss: 0.6597, Val Acc: 0.8297\n"
     ]
    },
    {
     "name": "stderr",
     "output_type": "stream",
     "text": [
      "Epoch 6/10: 100%|██████████| 700/700 [00:01<00:00, 469.85it/s]\n"
     ]
    },
    {
     "name": "stdout",
     "output_type": "stream",
     "text": [
      "Epoch 6/10, Train Loss: 0.6068, Val Loss: 0.5756, Val Acc: 0.8477\n"
     ]
    },
    {
     "name": "stderr",
     "output_type": "stream",
     "text": [
      "Epoch 7/10: 100%|██████████| 700/700 [00:01<00:00, 488.32it/s]\n"
     ]
    },
    {
     "name": "stdout",
     "output_type": "stream",
     "text": [
      "Epoch 7/10, Train Loss: 0.5383, Val Loss: 0.5217, Val Acc: 0.8598\n"
     ]
    },
    {
     "name": "stderr",
     "output_type": "stream",
     "text": [
      "Epoch 8/10: 100%|██████████| 700/700 [00:01<00:00, 499.27it/s]\n"
     ]
    },
    {
     "name": "stdout",
     "output_type": "stream",
     "text": [
      "Epoch 8/10, Train Loss: 0.4923, Val Loss: 0.4841, Val Acc: 0.8679\n"
     ]
    },
    {
     "name": "stderr",
     "output_type": "stream",
     "text": [
      "Epoch 9/10: 100%|██████████| 700/700 [00:01<00:00, 434.00it/s]\n"
     ]
    },
    {
     "name": "stdout",
     "output_type": "stream",
     "text": [
      "Epoch 9/10, Train Loss: 0.4593, Val Loss: 0.4566, Val Acc: 0.8761\n"
     ]
    },
    {
     "name": "stderr",
     "output_type": "stream",
     "text": [
      "Epoch 10/10: 100%|██████████| 700/700 [00:01<00:00, 484.25it/s]\n"
     ]
    },
    {
     "name": "stdout",
     "output_type": "stream",
     "text": [
      "Epoch 10/10, Train Loss: 0.4348, Val Loss: 0.4350, Val Acc: 0.8802\n",
      "Test Accuracy (Xavier Initializer): 0.8834\n",
      "\n",
      "Training model with He initializer\n"
     ]
    },
    {
     "name": "stderr",
     "output_type": "stream",
     "text": [
      "Epoch 1/10: 100%|██████████| 700/700 [00:02<00:00, 280.31it/s]\n"
     ]
    },
    {
     "name": "stdout",
     "output_type": "stream",
     "text": [
      "Epoch 1/10, Train Loss: 1.9321, Val Loss: 1.4011, Val Acc: 0.6842\n"
     ]
    },
    {
     "name": "stderr",
     "output_type": "stream",
     "text": [
      "Epoch 2/10: 100%|██████████| 700/700 [00:02<00:00, 294.46it/s]\n"
     ]
    },
    {
     "name": "stdout",
     "output_type": "stream",
     "text": [
      "Epoch 2/10, Train Loss: 1.1036, Val Loss: 0.9043, Val Acc: 0.7913\n"
     ]
    },
    {
     "name": "stderr",
     "output_type": "stream",
     "text": [
      "Epoch 3/10: 100%|██████████| 700/700 [00:02<00:00, 292.81it/s]\n"
     ]
    },
    {
     "name": "stdout",
     "output_type": "stream",
     "text": [
      "Epoch 3/10, Train Loss: 0.7772, Val Loss: 0.7021, Val Acc: 0.8216\n"
     ]
    },
    {
     "name": "stderr",
     "output_type": "stream",
     "text": [
      "Epoch 4/10: 100%|██████████| 700/700 [00:02<00:00, 280.98it/s]\n"
     ]
    },
    {
     "name": "stdout",
     "output_type": "stream",
     "text": [
      "Epoch 4/10, Train Loss: 0.6322, Val Loss: 0.6002, Val Acc: 0.8408\n"
     ]
    },
    {
     "name": "stderr",
     "output_type": "stream",
     "text": [
      "Epoch 5/10: 100%|██████████| 700/700 [00:02<00:00, 298.69it/s]\n"
     ]
    },
    {
     "name": "stdout",
     "output_type": "stream",
     "text": [
      "Epoch 5/10, Train Loss: 0.5525, Val Loss: 0.5377, Val Acc: 0.8537\n"
     ]
    },
    {
     "name": "stderr",
     "output_type": "stream",
     "text": [
      "Epoch 6/10: 100%|██████████| 700/700 [00:02<00:00, 285.98it/s]\n"
     ]
    },
    {
     "name": "stdout",
     "output_type": "stream",
     "text": [
      "Epoch 6/10, Train Loss: 0.5019, Val Loss: 0.4957, Val Acc: 0.8619\n"
     ]
    },
    {
     "name": "stderr",
     "output_type": "stream",
     "text": [
      "Epoch 7/10: 100%|██████████| 700/700 [00:02<00:00, 296.79it/s]\n"
     ]
    },
    {
     "name": "stdout",
     "output_type": "stream",
     "text": [
      "Epoch 7/10, Train Loss: 0.4660, Val Loss: 0.4648, Val Acc: 0.8679\n"
     ]
    },
    {
     "name": "stderr",
     "output_type": "stream",
     "text": [
      "Epoch 8/10: 100%|██████████| 700/700 [00:02<00:00, 274.94it/s]\n"
     ]
    },
    {
     "name": "stdout",
     "output_type": "stream",
     "text": [
      "Epoch 8/10, Train Loss: 0.4397, Val Loss: 0.4421, Val Acc: 0.8730\n"
     ]
    },
    {
     "name": "stderr",
     "output_type": "stream",
     "text": [
      "Epoch 9/10: 100%|██████████| 700/700 [00:02<00:00, 271.04it/s]\n"
     ]
    },
    {
     "name": "stdout",
     "output_type": "stream",
     "text": [
      "Epoch 9/10, Train Loss: 0.4192, Val Loss: 0.4239, Val Acc: 0.8774\n"
     ]
    },
    {
     "name": "stderr",
     "output_type": "stream",
     "text": [
      "Epoch 10/10: 100%|██████████| 700/700 [00:02<00:00, 276.16it/s]\n"
     ]
    },
    {
     "name": "stdout",
     "output_type": "stream",
     "text": [
      "Epoch 10/10, Train Loss: 0.4027, Val Loss: 0.4093, Val Acc: 0.8827\n",
      "Test Accuracy (He Initializer): 0.8856\n",
      "\n"
     ]
    },
    {
     "data": {
      "image/png": "[encoded data removed]",
      "text/plain": [
       "<Figure size 1200x600 with 1 Axes>"
      ]
     },
     "metadata": {},
     "output_type": "display_data"
    },
    {
     "data": {
      "image/png": "[encoded data removed]",
      "text/plain": [
       "<Figure size 1200x600 with 2 Axes>"
      ]
     },
     "metadata": {},
     "output_type": "display_data"
    }
   ],
   "source": [
    "# Variasi weight initializer\n",
    "weight_initializers = {\n",
    "    \"Zero\": ZeroInitializer(),\n",
    "    \"Uniform\": UniformInitializer(),\n",
    "    \"Normal\": NormalInitializer(),\n",
    "    \"Xavier\": XavierInitializer(),\n",
    "    \"He\": HeInitializer(),\n",
    "}\n",
    "\n",
    "results_initializers = {}\n",
    "histories_initializers = {}\n",
    "\n",
    "for name, initializer in weight_initializers.items():\n",
    "    print(f\"Training model with {name} initializer\")\n",
    "    model_initializer = NeuralNetwork(\n",
    "        layer_sizes=[784, 128, 64, 10],\n",
    "        activation_names=[None, \"swish\", \"gelu\", \"softmax\"],\n",
    "        loss_function=CategoricalCrossEntropy(),\n",
    "        weight_initializer=initializer,\n",
    "    )\n",
    "    history_initializer = model_initializer.train(\n",
    "        X_train=X_train,\n",
    "        y_train=y_train_cat,\n",
    "        X_val=X_val,\n",
    "        y_val=y_val_cat,\n",
    "        batch_size=64,\n",
    "        learning_rate=0.01,\n",
    "        epochs=10,\n",
    "        momentum=0.9,\n",
    "        verbose=1,\n",
    "        early_stopping_patience=3,\n",
    "    )\n",
    "    histories_initializers[name] = history_initializer\n",
    "    pred_initializer = model_initializer.forward(X_test)\n",
    "    pred_classes_initializer = np.argmax(pred_initializer, axis=1)\n",
    "    accuracy_initializer = np.mean(pred_classes_initializer == y_test)\n",
    "    results_initializers[name] = accuracy_initializer\n",
    "    print(f\"Test Accuracy ({name} Initializer): {accuracy_initializer:.4f}\\n\")\n",
    "\n",
    "# grafik perbandingan loss\n",
    "plt.figure(figsize=(12, 6))\n",
    "plt.plot(\n",
    "    histories_initializers[\"Zero\"][\"train_loss\"], label=\"Train Loss (Zero)\"\n",
    ")\n",
    "plt.plot(\n",
    "    histories_initializers[\"Uniform\"][\"train_loss\"], label=\"Train Loss (Uniform)\"\n",
    ")\n",
    "plt.plot(\n",
    "    histories_initializers[\"Normal\"][\"train_loss\"], label=\"Train Loss (Normal)\"\n",
    ")\n",
    "plt.plot(\n",
    "    histories_initializers[\"Xavier\"][\"train_loss\"], label=\"Train Loss (Xavier)\"\n",
    ")\n",
    "plt.plot(\n",
    "    histories_initializers[\"He\"][\"train_loss\"], label=\"Train Loss (He)\"\n",
    ")\n",
    "\n",
    "plt.title(\"Perbandingan Training Loss\")\n",
    "plt.xlabel(\"Epochs\")\n",
    "plt.ylabel(\"Loss\")\n",
    "plt.legend()\n",
    "plt.grid()\n",
    "plt.show()\n",
    "\n",
    "# grafik distribusi bobot dan gradien bobot\n",
    "plt.figure(figsize=(12, 6))\n",
    "plt.subplot(1, 2, 1)\n",
    "plt.title(\"Weight Distribution\")\n",
    "plt.hist(\n",
    "    model_initializer.layers[1].parameters['weights'].flatten(), \n",
    "    bins=50, alpha=0.5, label=\"Zero\"\n",
    ")\n",
    "plt.hist(\n",
    "    model_initializer.layers[1].parameters['weights'].flatten(), \n",
    "    bins=50, alpha=0.5, label=\"Uniform\"\n",
    ")\n",
    "plt.hist(\n",
    "    model_initializer.layers[1].parameters['weights'].flatten(), \n",
    "    bins=50, alpha=0.5, label=\"Normal\"\n",
    ")\n",
    "plt.hist(\n",
    "    model_initializer.layers[1].parameters['weights'].flatten(), \n",
    "    bins=50, alpha=0.5, label=\"Xavier\"\n",
    ")\n",
    "plt.hist(\n",
    "    model_initializer.layers[1].parameters['weights'].flatten(), \n",
    "    bins=50, alpha=0.5, label=\"He\"\n",
    ")\n",
    "plt.xlabel(\"Weight Value\")\n",
    "plt.ylabel(\"Frequency\")\n",
    "plt.legend()\n",
    "plt.grid()\n",
    "\n",
    "plt.subplot(1, 2, 2)\n",
    "plt.title(\"Gradient Distribution\")\n",
    "plt.hist(\n",
    "    model_initializer.layers[1].gradients['weights'].flatten(),\n",
    "    bins=50, alpha=0.5, label=\"Zero\",\n",
    ")\n",
    "plt.hist(\n",
    "    model_initializer.layers[1].gradients['weights'].flatten(),\n",
    "    bins=50, alpha=0.5, label=\"Uniform\",\n",
    ")\n",
    "plt.hist(\n",
    "    model_initializer.layers[1].gradients['weights'].flatten(),\n",
    "    bins=50, alpha=0.5, label=\"Normal\",\n",
    ")\n",
    "plt.hist(\n",
    "    model_initializer.layers[1].gradients['weights'].flatten(),\n",
    "    bins=50, alpha=0.5, label=\"Xavier\",\n",
    ")\n",
    "plt.hist(\n",
    "    model_initializer.layers[1].gradients['weights'].flatten(),\n",
    "    bins=50, alpha=0.5, label=\"He\",\n",
    ")\n",
    "plt.xlabel(\"Gradient Value\")\n",
    "plt.ylabel(\"Frequency\")\n",
    "plt.legend()\n",
    "plt.grid()\n",
    "plt.tight_layout()\n",
    "plt.show()"
   ]
  },
  {
   "cell_type": "markdown",
   "metadata": {},
   "source": [
    "## Perbandingan dengan MLP"
   ]
  },
  {
   "cell_type": "code",
   "execution_count": null,
   "metadata": {},
   "outputs": [
    {
     "name": "stderr",
     "output_type": "stream",
     "text": [
      "Epoch 1/10: 100%|██████████| 700/700 [00:01<00:00, 455.88it/s]\n"
     ]
    },
    {
     "name": "stdout",
     "output_type": "stream",
     "text": [
      "Epoch 1/10, Train Loss: 1.9622, Val Loss: 1.5082, Val Acc: 0.6442\n"
     ]
    },
    {
     "name": "stderr",
     "output_type": "stream",
     "text": [
      "Epoch 2/10: 100%|██████████| 700/700 [00:01<00:00, 462.85it/s]\n"
     ]
    },
    {
     "name": "stdout",
     "output_type": "stream",
     "text": [
      "Epoch 2/10, Train Loss: 1.2334, Val Loss: 1.0140, Val Acc: 0.7736\n"
     ]
    },
    {
     "name": "stderr",
     "output_type": "stream",
     "text": [
      "Epoch 3/10: 100%|██████████| 700/700 [00:01<00:00, 541.75it/s]\n"
     ]
    },
    {
     "name": "stdout",
     "output_type": "stream",
     "text": [
      "Epoch 3/10, Train Loss: 0.8672, Val Loss: 0.7647, Val Acc: 0.8146\n"
     ]
    },
    {
     "name": "stderr",
     "output_type": "stream",
     "text": [
      "Epoch 4/10: 100%|██████████| 700/700 [00:01<00:00, 581.64it/s]\n"
     ]
    },
    {
     "name": "stdout",
     "output_type": "stream",
     "text": [
      "Epoch 4/10, Train Loss: 0.6848, Val Loss: 0.6351, Val Acc: 0.8413\n"
     ]
    },
    {
     "name": "stderr",
     "output_type": "stream",
     "text": [
      "Epoch 5/10: 100%|██████████| 700/700 [00:01<00:00, 664.69it/s]\n"
     ]
    },
    {
     "name": "stdout",
     "output_type": "stream",
     "text": [
      "Epoch 5/10, Train Loss: 0.5842, Val Loss: 0.5586, Val Acc: 0.8557\n"
     ]
    },
    {
     "name": "stderr",
     "output_type": "stream",
     "text": [
      "Epoch 6/10: 100%|██████████| 700/700 [00:01<00:00, 649.77it/s]\n"
     ]
    },
    {
     "name": "stdout",
     "output_type": "stream",
     "text": [
      "Epoch 6/10, Train Loss: 0.5212, Val Loss: 0.5079, Val Acc: 0.8659\n"
     ]
    },
    {
     "name": "stderr",
     "output_type": "stream",
     "text": [
      "Epoch 7/10: 100%|██████████| 700/700 [00:01<00:00, 668.50it/s]\n"
     ]
    },
    {
     "name": "stdout",
     "output_type": "stream",
     "text": [
      "Epoch 7/10, Train Loss: 0.4779, Val Loss: 0.4716, Val Acc: 0.8710\n"
     ]
    },
    {
     "name": "stderr",
     "output_type": "stream",
     "text": [
      "Epoch 8/10: 100%|██████████| 700/700 [00:01<00:00, 650.55it/s]\n"
     ]
    },
    {
     "name": "stdout",
     "output_type": "stream",
     "text": [
      "Epoch 8/10, Train Loss: 0.4464, Val Loss: 0.4455, Val Acc: 0.8774\n"
     ]
    },
    {
     "name": "stderr",
     "output_type": "stream",
     "text": [
      "Epoch 9/10: 100%|██████████| 700/700 [00:01<00:00, 598.28it/s]\n"
     ]
    },
    {
     "name": "stdout",
     "output_type": "stream",
     "text": [
      "Epoch 9/10, Train Loss: 0.4224, Val Loss: 0.4235, Val Acc: 0.8810\n"
     ]
    },
    {
     "name": "stderr",
     "output_type": "stream",
     "text": [
      "Epoch 10/10: 100%|██████████| 700/700 [00:01<00:00, 641.94it/s]\n"
     ]
    },
    {
     "name": "stdout",
     "output_type": "stream",
     "text": [
      "Epoch 10/10, Train Loss: 0.4032, Val Loss: 0.4072, Val Acc: 0.8847\n",
      "Test Accuracy (FFNN): 0.8897\n",
      "\n",
      "Test Accuracy (MLPClassifier): 0.9739\n",
      "\n"
     ]
    },
    {
     "name": "stderr",
     "output_type": "stream",
     "text": [
      "d:\\Informatika\\ML\\Tubes1_IF3270_ML_FFNN\\.venv\\Lib\\site-packages\\sklearn\\neural_network\\_multilayer_perceptron.py:691: ConvergenceWarning: Stochastic Optimizer: Maximum iterations (10) reached and the optimization hasn't converged yet.\n",
      "  warnings.warn(\n"
     ]
    }
   ],
   "source": [
    "from sklearn.neural_network import MLPClassifier\n",
    "\n",
    "ffnn_model = NeuralNetwork(\n",
    "    layer_sizes=[784, 128, 64, 10],\n",
    "    activation_names=[None, \"relu\", \"relu\", \"softmax\"],\n",
    "    loss_function=CategoricalCrossEntropy(),\n",
    "    weight_initializer=HeInitializer(),\n",
    ")\n",
    "history_ffnn = ffnn_model.train(\n",
    "    X_train=X_train,\n",
    "    y_train=y_train_cat,\n",
    "    X_val=X_val,\n",
    "    y_val=y_val_cat,\n",
    "    batch_size=64,\n",
    "    learning_rate=0.01,\n",
    "    epochs=10,\n",
    "    momentum=0.9,\n",
    "    verbose=1,\n",
    "    early_stopping_patience=3,\n",
    ")\n",
    "pred_ffnn = ffnn_model.forward(X_test)\n",
    "pred_classes_ffnn = np.argmax(pred_ffnn, axis=1)\n",
    "accuracy_ffnn = np.mean(pred_classes_ffnn == y_test)\n",
    "print(f\"Test Accuracy (FFNN): {accuracy_ffnn:.4f}\\n\")\n",
    "\n",
    "mlp_model = MLPClassifier(\n",
    "    hidden_layer_sizes=(128, 64),\n",
    "    activation=\"relu\",\n",
    "    solver=\"sgd\",\n",
    "    learning_rate_init=0.01,\n",
    "    batch_size=64,\n",
    "    max_iter=10,\n",
    "    momentum=0.9,\n",
    "    random_state=42,\n",
    ")\n",
    "mlp_model.fit(X_train, y_train_cat.argmax(axis=1))\n",
    "pred_mlp = mlp_model.predict(X_test)\n",
    "accuracy_mlp = np.mean(pred_mlp == y_test)\n",
    "print(f\"Test Accuracy (MLPClassifier): {accuracy_mlp:.4f}\\n\")"
   ]
  }
 ],
 "metadata": {
  "kernelspec": {
   "display_name": ".venv",
   "language": "python",
   "name": "python3"
  },
  "language_info": {
   "codemirror_mode": {
    "name": "ipython",
    "version": 3
   },
   "file_extension": ".py",
   "mimetype": "text/x-python",
   "name": "python",
   "nbconvert_exporter": "python",
   "pygments_lexer": "ipython3",
   "version": "3.12.9"
  }
 },
 "nbformat": 4,
 "nbformat_minor": 2
}
